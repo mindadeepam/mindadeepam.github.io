{
 "cells": [
  {
   "cell_type": "markdown",
   "metadata": {},
   "source": [
    "---\n",
    "title: \"Smol Models\"\n",
    "author: Deepam Minda\n",
    "# date: \"Sep 12, 2023\"\n",
    "# categories: [classification, few-shot learning, nlp]\n",
    "# image: \"cover.jpeg\"\n",
    "format:\n",
    "  html:\n",
    "    toc: true\n",
    "    toc-depth: 3\n",
    "    html-math-method: katex\n",
    "    css: ../../styles.css\n",
    "    code-fold: true\n",
    "execute:\n",
    "  warning: false\n",
    "draft: true\n",
    "---"
   ]
  },
  {
   "cell_type": "code",
   "execution_count": 98,
   "metadata": {},
   "outputs": [
    {
     "data": {
      "text/plain": [
       "[(0, 0), (1, 0)]"
      ]
     },
     "execution_count": 98,
     "metadata": {},
     "output_type": "execute_result"
    }
   ],
   "source": [
    "# def find_sum\n",
    "\n",
    "s = \"0\"\n",
    "s.count('0')\n",
    "counts_of_01s = [(0,0)]\n",
    "counts_of_01s.extend([(s[:i+1].count('0'), s[:i+1].count('1')) for i in range(len(s))])\n",
    "counts_of_01s"
   ]
  },
  {
   "cell_type": "code",
   "execution_count": 100,
   "metadata": {},
   "outputs": [
    {
     "name": "stdout",
     "output_type": "stream",
     "text": [
      "i:0, j:0\n",
      "1\n"
     ]
    }
   ],
   "source": [
    "\n",
    "\n",
    "s.count('0')\n",
    "counts_of_01s = [(0,0)]\n",
    "counts_of_01s.extend([(s[:i+1].count('0'), s[:i+1].count('1')) for i in range(len(s))])\n",
    "counts_of_01s\n",
    "\n",
    "ans=0\n",
    "substrings = set()\n",
    "for i in range(len(s)):\n",
    "    for j in range(i, len(s)):\n",
    "        print(f\"i:{i}, j:{j}\")\n",
    "        if i==j: \n",
    "            ans+=1\n",
    "            continue\n",
    "\n",
    "        subs = s[i:j+1]\n",
    "        if subs==\"\": continue\n",
    "        if subs in substrings:\n",
    "        \n",
    "            continue\n",
    "        \n",
    "        substrings.add(subs)\n",
    "        count_of_0s, count_of_1s = abs(counts_of_01s[i][0]-counts_of_01s[j+1][0]), abs(counts_of_01s[i][1]-counts_of_01s[j+1][1])\n",
    "        if (count_of_0s == count_of_1s):\n",
    "            ans+=2\n",
    "        else:\n",
    "            ans+=1\n",
    "        # print(f\"ans {ans}\")\n",
    "print(ans)\n",
    "    \n",
    "\n"
   ]
  },
  {
   "cell_type": "code",
   "execution_count": null,
   "metadata": {},
   "outputs": [],
   "source": []
  }
 ],
 "metadata": {
  "kernelspec": {
   "display_name": "Python 3",
   "language": "python",
   "name": "python3"
  },
  "language_info": {
   "codemirror_mode": {
    "name": "ipython",
    "version": 3
   },
   "file_extension": ".py",
   "mimetype": "text/x-python",
   "name": "python",
   "nbconvert_exporter": "python",
   "pygments_lexer": "ipython3",
   "version": "3.8.10"
  }
 },
 "nbformat": 4,
 "nbformat_minor": 2
}
