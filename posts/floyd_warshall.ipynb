{
 "cells": [
  {
   "cell_type": "markdown",
   "metadata": {},
   "source": [
    "---\n",
    "title: \"The Floyd-Warshall Algorithm\"\n",
    "author: Deepam Minda\n",
    "date: \"August 25, 2024\"\n",
    "categories: [graphs]\n",
    "format:\n",
    "  html:\n",
    "    toc: true\n",
    "    toc-depth: 3\n",
    "    html-math-method: katex\n",
    "    code-fold: false\n",
    "  ipynb: default\n",
    "execute:\n",
    "  warning: false\n",
    "---"
   ]
  },
  {
   "cell_type": "markdown",
   "metadata": {},
   "source": [
    "\n",
    "Lets have a quick look at a basic graph algorithm today:\n",
    "\n",
    "**Given a weighted graph, finding the shortest path between all pairs of nodes.**\n"
   ]
  },
  {
   "cell_type": "code",
   "execution_count": 163,
   "metadata": {},
   "outputs": [],
   "source": [
    "# lets define a graph\n",
    "\n",
    "# Show the edges matrix (assume A-F as indices 0-6 in the matrix)\n",
    "labels = {0: 'A', 1: 'B', 2: 'C', 3: 'D', 4: 'E', 5: 'F'}\n",
    "\n",
    "edges_matrix = [[0, 1, 1, 0, 0, 0],\n",
    "               [1, 0, 0, 1, 1, 0],\n",
    "               [1, 0, 0, 1, 0, 1],\n",
    "               [0, 1, 0, 0, 0, 0],\n",
    "               [0, 1, 0, 0, 0, 1],\n",
    "               [0, 0, 1, 0, 1, 0]]"
   ]
  },
  {
   "cell_type": "code",
   "execution_count": 164,
   "metadata": {},
   "outputs": [
    {
     "data": {
      "image/png": "[encoded data removed]",
      "text/plain": [
       "<Figure size 432x288 with 1 Axes>"
      ]
     },
     "metadata": {},
     "output_type": "display_data"
    }
   ],
   "source": [
    "#|code-fold: true\n",
    "import networkx as nx\n",
    "import matplotlib.pyplot as plt\n",
    "\n",
    "# Convert the graph dictionary to a NetworkX graph\n",
    "nx_graph = nx.Graph()\n",
    "for i in range(len(edges_matrix)):\n",
    "    for j in range(len(edges_matrix[i])):\n",
    "        if edges_matrix[i][j] == 1:\n",
    "            nx_graph.add_edge(i, j)\n",
    "\n",
    "\n",
    "\n",
    "# Draw the graph with white nodes\n",
    "nx.draw(nx_graph, with_labels=True, labels=labels, font_weight='bold', node_color='white')\n",
    "plt.show()"
   ]
  },
  {
   "cell_type": "markdown",
   "metadata": {},
   "source": [
    "Lets code the algotrihm\n",
    "\n",
    "To begin with, we'll have a distances matrix with same shape as edge matrix. Each value there represents the distance bw its row_num(i) and col_num(j). {aka its weights!}\n",
    "If no edge, distance is $\\infty$\n",
    "\n",
    "We'll also print the distance matrix as a dataframe to visualize its node labels."
   ]
  },
  {
   "cell_type": "code",
   "execution_count": 165,
   "metadata": {},
   "outputs": [
    {
     "name": "stdout",
     "output_type": "stream",
     "text": [
      "     A    B    C    D    E    F\n",
      "A  inf  1.0  1.0  inf  inf  inf\n",
      "B  1.0  inf  inf  1.0  1.0  inf\n",
      "C  1.0  inf  inf  1.0  inf  1.0\n",
      "D  inf  1.0  inf  inf  inf  inf\n",
      "E  inf  1.0  inf  inf  inf  1.0\n",
      "F  inf  inf  1.0  inf  1.0  inf\n"
     ]
    }
   ],
   "source": [
    "import math \n",
    "inf = math.inf\n",
    "\n",
    "\n",
    "print_grid = lambda x: print(pd.DataFrame(distances, index=labels.values(), columns=labels.values()))\n",
    "\n",
    "enum = {1:1, 0:inf}\n",
    "distances = [row[:] for row in edges_matrix]\n",
    "size = len(edges_matrix)\n",
    "\n",
    "for i in range(size):\n",
    "    for j in range(size):\n",
    "        distances[i][j] = enum[distances[i][j]]\n",
    "\n",
    "print_grid(distances)"
   ]
  },
  {
   "cell_type": "markdown",
   "metadata": {},
   "source": [
    "Now we have distance bw nodes $i$ and $j$. Now lets perform another loop for `n` times (n=num_nodes).\n",
    "in each pass we'll add a new node k into the mix and perform the following operation:\n",
    "\n",
    "    `distances[i][j] = min(distances[i][j], distances[i][k] + distances[k][j])`\n",
    "\n",
    "We are essentially saying this, \n",
    "\n",
    "At any $k^th$ step, we have $i$ and $j$ and a total of k vertices(k steps) we have 2 choices,\n",
    "\n",
    "Is the path bw $i$ and $j$ through k vertices shorter than the distance bw $i$ and $j$ through k-1 vertices. \n",
    "\n",
    "**ie for any path $i,j$ does adding this node to its path reduce the distance than what we know?** (default is $\\infty$ or direct connection!)\n",
    "\n",
    "Beautiful isn't it. Without the DP this would $j$ust look 1 hop deep into the network for each comparison. \n",
    "\n",
    "Now lets watch it in action for the graph we defined."
   ]
  },
  {
   "cell_type": "code",
   "execution_count": 166,
   "metadata": {},
   "outputs": [
    {
     "name": "stdout",
     "output_type": "stream",
     "text": [
      "Pass 1: with ['A']:\n",
      "\n",
      "     A    B    C    D    E    F\n",
      "A  inf  1.0  1.0  inf  inf  inf\n",
      "B  1.0  2.0  2.0  1.0  1.0  inf\n",
      "C  1.0  2.0  2.0  1.0  inf  1.0\n",
      "D  inf  1.0  inf  inf  inf  inf\n",
      "E  inf  1.0  inf  inf  inf  1.0\n",
      "F  inf  inf  1.0  inf  1.0  inf\n",
      "\n",
      "=========\n",
      "\n",
      "Pass 2: with ['A', 'B']:\n",
      "\n",
      "     A    B  C    D  E    F\n",
      "A  2.0  1.0  1  2.0  2  inf\n",
      "B  1.0  2.0  2  1.0  1  inf\n",
      "C  1.0  2.0  2  1.0  3  1.0\n",
      "D  2.0  1.0  3  2.0  2  inf\n",
      "E  2.0  1.0  3  2.0  2  1.0\n",
      "F  inf  inf  1  inf  1  inf\n",
      "\n",
      "=========\n",
      "\n",
      "Pass 3: with ['A', 'B', 'C']:\n",
      "\n",
      "   A  B  C  D  E  F\n",
      "A  2  1  1  2  2  2\n",
      "B  1  2  2  1  1  3\n",
      "C  1  2  2  1  3  1\n",
      "D  2  1  3  2  2  4\n",
      "E  2  1  3  2  2  1\n",
      "F  2  3  1  2  1  2\n",
      "\n",
      "=========\n",
      "\n",
      "Pass 4: with ['A', 'B', 'C', 'D']:\n",
      "\n",
      "   A  B  C  D  E  F\n",
      "A  2  1  1  2  2  2\n",
      "B  1  2  2  1  1  3\n",
      "C  1  2  2  1  3  1\n",
      "D  2  1  3  2  2  4\n",
      "E  2  1  3  2  2  1\n",
      "F  2  3  1  2  1  2\n",
      "\n",
      "=========\n",
      "\n",
      "Pass 5: with ['A', 'B', 'C', 'D', 'E']:\n",
      "\n",
      "   A  B  C  D  E  F\n",
      "A  2  1  1  2  2  2\n",
      "B  1  2  2  1  1  2\n",
      "C  1  2  2  1  3  1\n",
      "D  2  1  3  2  2  3\n",
      "E  2  1  3  2  2  1\n",
      "F  2  2  1  2  1  2\n",
      "\n",
      "=========\n",
      "\n",
      "Pass 6: with ['A', 'B', 'C', 'D', 'E', 'F']:\n",
      "\n",
      "   A  B  C  D  E  F\n",
      "A  2  1  1  2  2  2\n",
      "B  1  2  2  1  1  2\n",
      "C  1  2  2  1  2  1\n",
      "D  2  1  3  2  2  3\n",
      "E  2  1  2  2  2  1\n",
      "F  2  2  1  2  1  2\n",
      "\n",
      "=========\n",
      "\n"
     ]
    }
   ],
   "source": [
    "visited_nodes = []\n",
    "for k in range(size):\n",
    "    for i in range(size):\n",
    "        for j in range(size):\n",
    "            distances[i][j] = min(distances[i][j], distances[i][k]+distances[k][j])\n",
    "            \n",
    "    # Print the distances matrix as a grid after every k\n",
    "    visited_nodes.append(labels[k])\n",
    "    print(f\"Pass {k+1}: with {visited_nodes}:\\n\")\n",
    "    print_grid(distances)\n",
    "    print(\"\\n=========\\n\")"
   ]
  },
  {
   "cell_type": "markdown",
   "metadata": {},
   "source": [
    "Lets traverse this evolution of the distance value for nodes $F$ and $D$. \n",
    "\n",
    "Let *potential_stops* be the $k-1$ sets we have visited at the start of $k^{th}$.\n",
    "\n",
    "\n",
    "We can see theres no direct path, so obviously the value is $\\infty$ to begin with. Even with *potential_stops*=${A,B}$ we cant get to $D$. so the value after 2 passes is still $\\infty$.\n",
    "\n",
    "When we add $C$, we should get a path, and sure we do! we arrive at the answer directly which is 2 ($F->C->D$).\n",
    "\n",
    "Why does that happen here?\n",
    "Its because for all nodes being added to the *potential_stops*, we are checking whether adding $k^{th}$ node improves the shortest path among **any** 2 nodes! Hence at value of $k$, we know that if the shortest path exists in the given set, we have it already!\n",
    "    "
   ]
  },
  {
   "cell_type": "markdown",
   "metadata": {},
   "source": [
    "## Time Complexity\n",
    "\n",
    "$T$: $O(N^3)$, where $N$ is the number of vertices.\n",
    "\n",
    "Lets assume a baseline of **all-pairs-Dijkstra’s Algorithm**:\n",
    "\n",
    "- Purpose: Computes the shortest path from a single source to all other vertices in a weighted graph.\n",
    "- Dijkstra: To find the shortest paths between all pairs of vertices, you can run Dijkstra’s algorithm  times (once for each vertex as the source). The Dijkstra algo bsaically just uses plain BFS to get the shortest paths. \n",
    "- Time Complexity: $O(E + N\\log N)$ for a single source, ie $O(N(E + N\\log N))$ for N nodes\n",
    "\n",
    "When for dense graohs $E$ approaches $N^2$,  $T$ approaches $O(N^3)$ and hence the algo is similar to FW, \n",
    "But when $E<<N^2$, ie sparse graphs:  T->$O(N^2 logN)$ -> $O(N^2)$ \n",
    "\n",
    "\n",
    "Dijkstra’s algorithm assumes that all edge weights are non-negative. If your graph has negative weights, Dijkstra’s algorithm can give incorrect results. \n",
    "\n",
    "While FW can open up use-cases where negative weights are common, such as in routing algorithms, certain scheduling problems, or in algorithms for finding the transitive closure of a graph."
   ]
  }
 ],
 "metadata": {
  "kernelspec": {
   "display_name": "Python 3",
   "language": "python",
   "name": "python3"
  },
  "language_info": {
   "codemirror_mode": {
    "name": "ipython",
    "version": 3
   },
   "file_extension": ".py",
   "mimetype": "text/x-python",
   "name": "python",
   "nbconvert_exporter": "python",
   "pygments_lexer": "ipython3",
   "version": "3.8.10"
  }
 },
 "nbformat": 4,
 "nbformat_minor": 2
}
