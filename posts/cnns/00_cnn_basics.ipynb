{
 "cells": [
  {
   "cell_type": "markdown",
   "metadata": {},
   "source": [
    "---\n",
    "title: \"So you know convolutions huh?\"\n",
    "author: Deepam Minda\n",
    "date: \"July 30, 2024\"\n",
    "categories: [cnns, deep-learning]\n",
    "format:\n",
    "  html:\n",
    "    toc: true\n",
    "    toc-depth: 3\n",
    "    html-math-method: katex\n",
    "    # css: ../../styles.css\n",
    "    code-fold: true\n",
    "execute:\n",
    "  warning: false\n",
    "---"
   ]
  },
  {
   "cell_type": "markdown",
   "metadata": {},
   "source": [
    "Welcome to the land of vision in deep learning. Gone are the days you need to look at 10 types of thresholding and 20 types of data pre-processing and apply a logistic classifier on the outputs of a cnn feature extractor. These days you can just load a pretrained model and watch a decaying training and validation loss and feel good about yourself.\n",
    "\n",
    "Turns out, this doesnt last long though. You eventually get around to understand what these models actually are because you need to! \n",
    "And when it comes to vision, you surely cannot leave out CNNs. Sure its all transformers nowadays but CNNs or convolutional neural networks were essentially the first deep learning models to make a significant impact in the field of computer vision and most would agree started the whole deep learning wave in the modern era. AlexNet, VGG, resnets would be considered the pioneer models in this field.\n",
    "\n",
    "Now you might ask: All this sounds interesting Deepam, but what the hell is a convolution? \n",
    "\n",
    "\n",
    "## Convolutions\n",
    "\n",
    "Convolutions is just an operation between 2 signals (vectors/matrices/continuous-signals) that returns a 3rd signal. It represents how one signal modifies the other signal. In general terms, convolution is used to apply a filter to a signal or data.\n",
    "\n",
    "## Steps in Convolution\n",
    "\n",
    "1. **Flip the Kernel**: The kernel (or filter) $(g)$ is flipped both horizontally and vertically. \n",
    "why?-> [link](https://dsp.stackexchange.com/questions/5992/flipping-the-impulse-response-in-convolution/6355#6355)\n",
    "2. **Slide the Kernel**: The flipped kernel is then slid (convolved) over the input function $(f)$ .\n",
    "3. **Element-wise Multiplication**: At each position, element-wise multiplications are performed between the kernel and the overlapping portion of the input function.\n",
    "4. **Summation**: The results of these multiplications are summed to get a single value, which is placed in the output function."
   ]
  },
  {
   "cell_type": "markdown",
   "metadata": {},
   "source": [
    "For a 1d array this might look like this: "
   ]
  },
  {
   "cell_type": "code",
   "execution_count": 1,
   "metadata": {},
   "outputs": [
    {
     "name": "stdout",
     "output_type": "stream",
     "text": [
      "f: [ 1  2  3 -1 10 -4]\n",
      "g: [ 1  0 -1]\n",
      "\n",
      "slice_of_f * g[::-1]: \n",
      "0. sum([1 2 3] * [-1  0  1]) = sum([-1  0  3]) = 2\n",
      "1. sum([ 2  3 -1] * [-1  0  1]) = sum([-2  0 -1]) = -3\n",
      "2. sum([ 3 -1 10] * [-1  0  1]) = sum([-3  0 10]) = 7\n",
      "3. sum([-1 10 -4] * [-1  0  1]) = sum([ 1  0 -4]) = -3\n",
      "\n",
      "result python: [2, -3, 7, -3]\n",
      "result using np.convolve: [ 2 -3  7 -3]\n"
     ]
    }
   ],
   "source": [
    "import numpy as np \n",
    "\n",
    "f = np.array([1,2,3,-1, 10, -4])\n",
    "g = np.array([1,0,-1])\n",
    "\n",
    "print(f\"f: {f}\")\n",
    "print(f\"g: {g}\")\n",
    "window_size = g.shape[0]\n",
    "result = []\n",
    "print(\"\\nslice_of_f * g[::-1]: \")\n",
    "for idx, i in enumerate(range(len(f)-window_size+1)):\n",
    "    slice_of_f = f[i:i+window_size]\n",
    "    print(f\"{idx}. sum({slice_of_f} * {g[::-1]}) = sum({slice_of_f * g[::-1]}) = {np.sum(slice_of_f * g[::-1])}\")\n",
    "    result.append(np.sum(slice_of_f * g[::-1]))\n",
    "\n",
    "print(f\"\\nresult python: {result}\")\n",
    "print(f\"result using np.convolve: {np.convolve(f,g, mode='valid')}\") # valid is the no padding"
   ]
  },
  {
   "cell_type": "markdown",
   "metadata": {},
   "source": [
    "That wasnt so hard was it? The concept seems simple enough. slide one signal over another and each time, do element wise multiplication and sum to get a value. \n",
    "\n",
    "Lets look at an example for 2d arrays. Here lets take 2 arrays of shapes (6,6) and (3,3). First we need to flip the 2nd array both horizontally and vertically. Then, as the (3,3) array slides over the other we should get a (4,4) matrix. Lets see how this works."
   ]
  },
  {
   "cell_type": "code",
   "execution_count": 2,
   "metadata": {},
   "outputs": [
    {
     "name": "stdout",
     "output_type": "stream",
     "text": [
      "f shape: (6, 6)\n",
      "g shape: (3, 3)\n"
     ]
    }
   ],
   "source": [
    "from scipy.signal import convolve2d\n",
    "\n",
    "f = np.random.rand(6,6)\n",
    "g = np.array([[1,0,-1],[1,0,-1],[1,0,-1]])\n",
    "\n",
    "print(f\"f shape: {f.shape}\")\n",
    "print(f\"g shape: {g.shape}\")\n",
    "# print(f\"result: {np.convolve(f,g, mode='valid')}\")"
   ]
  },
  {
   "cell_type": "code",
   "execution_count": 3,
   "metadata": {},
   "outputs": [
    {
     "name": "stdout",
     "output_type": "stream",
     "text": [
      "result[0,0] \n",
      "->sum(f[0:3, 0:3] * g[::-1, ::-1]): \n",
      "[[-0.50043879  0.          0.96533241]\n",
      " [-0.57575706  0.          0.96608904]\n",
      " [-0.26910721  0.          0.02162452]]\n",
      "-> 0.6077429029172687\n",
      "\n",
      "result[1,0] \n",
      "->sum(f[1:4, 0:3] * g[::-1, ::-1]): \n",
      "[[-0.57575706  0.          0.96608904]\n",
      " [-0.26910721  0.          0.02162452]\n",
      " [-0.16668093  0.          0.3390268 ]]\n",
      "-> 0.3151951622196356\n",
      "\n",
      "result[2,0] \n",
      "->sum(f[2:5, 0:3] * g[::-1, ::-1]): \n",
      "[[-0.26910721  0.          0.02162452]\n",
      " [-0.16668093  0.          0.3390268 ]\n",
      " [-0.61184461  0.          0.5508951 ]]\n",
      "-> -0.1360863354721753\n",
      "\n",
      "... and so on.\n",
      "\n",
      "final result: \n",
      "[[ 0.6077429  -0.14661592  0.29036408  0.19567047]\n",
      " [ 0.31519516 -0.07866619  0.52920251 -0.44948681]\n",
      " [-0.13608634 -0.90171287  0.94176527 -0.91012219]\n",
      " [ 0.69872346 -0.43798077 -0.38699654 -0.62373429]]\n",
      "\n",
      "Which is the same as the result of scipy.convolve2d: \n",
      "[[ 0.6077429  -0.14661592  0.29036408  0.19567047]\n",
      " [ 0.31519516 -0.07866619  0.52920251 -0.44948681]\n",
      " [-0.13608634 -0.90171287  0.94176527 -0.91012219]\n",
      " [ 0.69872346 -0.43798077 -0.38699654 -0.62373429]]\n"
     ]
    }
   ],
   "source": [
    "f_rows, f_columns = f.shape \n",
    "g_rows, g_columns = g.shape\n",
    "\n",
    "result = np.zeros((f_rows-g_rows+1, f_columns-g_columns+1))\n",
    "for i in range(f_rows-g_rows+1):\n",
    "    for j in range(f_columns-g_columns+1):\n",
    "        item = f[i:i+g_rows, j:j+g_columns] * g[::-1, ::-1]\n",
    "        if i<3 and j==0:\n",
    "            print(f\"result[{i},{j}] \\n->sum(f[{i}:{i+g_rows}, {j}:{j+g_columns}] * g[::-1, ::-1]): \\n{item}\")\n",
    "            print(f\"-> {np.sum(item)}\\n\")\n",
    "        result[i,j] = np.sum(item)\n",
    "print(\"... and so on.\\n\")\n",
    "print(f\"final result: \\n{result}\\n\")\n",
    "# print(f\"result shape: {result.shape}\")\n",
    "\n",
    "result = convolve2d(f,g, mode='valid')\n",
    "print(f\"Which is the same as the result of scipy.convolve2d: \\n{result}\")"
   ]
  },
  {
   "cell_type": "markdown",
   "metadata": {},
   "source": [
    "## Convolutional neural networks (CNNs/Convnets)\n",
    "With that out of the way lets back up for a second and remember our old friends feed forward networks. What is the problem with using feed forward networks to process images?\n",
    "As it turns out, quite a few things:\n",
    "\n",
    "1. Feed forward networks do not share information between different data points in the network. For example if X = [0,1,2,3] is a vector of input to the network, all the interactions between weights happen independently for each data point in one sample of data.\n",
    "This works fine for tabular features of some data, because they actually are not dependent on their spatial postion wrt each other. The model will learn the same if you shuffle all columns of a dataset. <br><br>But images pixels are a different type of data. They are inherently very locally dependent. If you look at a single pixel, it is very likely to be highly correlated with its neighboring pixels. Hence our network should process atleast patches of images at a time. \n",
    "\n",
    "\n",
    "2. Earlier when classical image processing methods were being used, many a times hand-made \"filters\" were used to extract features from images. In CNNs, we learn these filters! and we learn a lot of them. So think of each layer in this CNN as having a lot of these filters which are learned during network.\n",
    "\n",
    "3. Another concept that helps is parameter sharing. We could in thoery have different set of filters for different patches in the image, but this would shoot up the parameter count of our model. So in a single layer, we use a single set of filters for all patches in the image.\n"
   ]
  },
  {
   "cell_type": "markdown",
   "metadata": {},
   "source": [
    "Lets get into the tensor shapes now. \n",
    "\n",
    "## Shapes\n",
    "\n",
    "Images are mostly represented as 3d tensors, of shape: $(H_{in}, W_{in}, C_{in})$\n",
    "where $H_{in}$ is the height of the image, $W_{in}$ is the width of the image and $C_{in}$ is the number of channels in the image. It helps to visualize volumes (3d) of numbers interacting with each other and resulting in volumes of data.\n",
    "\n",
    "- input to Conv layer -> $(H_{in}, W_{in}, C_{in})$ \n",
    "- filters/weights of Conv layer -> $C_{out} * (k,k,C_{in})$  (ignoring biases for simplicity)\n",
    "- output of Conv layer -> $(H_{out}, W_{out}, C_{out})$\n",
    "\n",
    "\n",
    "$C_{out}$ number of filters are learned. Each one is a tensor of shapes $(k,k,C_{in})$ where $k$ is the size of the filter (assuming square for simplicity too) and $C_{in}$ is the number of input channels. $C_{out}$ is the number of filters learned. \n",
    "\n",
    "So when $C_{out}$ filters of shape $(k,k,C_{in})$ are applied to an image of shape $(H_{in},W_{in},C_{in})$, the output is a 3d tensor of shape $(H_{out}, W_{out}, C_{out})$ where $H_{out}$ is the height of the output and $W_{out}$ is the width of the output.\n",
    "\n",
    "\n",
    "That is basically the essence of a convolutional layer. There are a few other parameters to consider which together decide the values for $H_{out}$ and $W_{out}$.\n",
    "\n",
    "1. $S$: The stride. When we slide the filter over the input, we move it $S$ steps at a time. If stride is 2, we move the filter 2 pixels at a time. The output shape will be inversely proportional to the stride size.\n",
    "2. $P$: The padding. if we want to keep the height and width of the image, we can pad the input with zeros. see example here:\n",
    "\n",
    "```python\n",
    "f: [1,  2,  3, -1, 10, -4]\n",
    "g: [1, 0, -1]\n",
    "convolve(f,g) = [2,-3,7,-3]\n",
    "```\n",
    "But after padding $f$ with 2 zeros on either side:\n",
    "\n",
    "```python\n",
    "f: [0, 0, 1,  2,  3, -1, 10, -4, 0, 0]\n",
    "convolve(f,g) = [1, 2, 2, -3, 7, -3, -10, 4]\n",
    "```\n",
    "\n",
    "I would at this point ask you to take me on my word when i say that the output dimensions turn out to be: \n",
    "\n",
    "- $H_{out}=(H_{in}−k+2P)/S+1$\n",
    "- $W_{out}=(W_{in}−k+2P)/S+1$\n",
    "\n",
    "Altough this is not true everytime, it is useful as a rule of thumb. the only times this wont be true are if we have different $S$, $k$ or $P$ along the height and width dimensions. \n",
    "\n",
    "To visualize the interaction of filters and input images, you can go [here](https://ezyang.github.io/convolution-visualizer/).\n",
    "\n",
    "## Other layers\n",
    "\n",
    "CNN layers are usually follwed by activation functions like ReLU and then a pooling layer. \n",
    "\n",
    "Pooling layer? yeah, pooling layer. So given a volume of input say instead of using filters we just use operations non parameterized like min and max just to downsample the data and get a smaller volume. That is what pooling does. But why would we do something like that? 2 reasons:\n",
    "\n",
    "1. Reduce the number of parameters: By reducing the number of parameters, the model can learn more general features.\n",
    "2. Reduce the amount of overfitting: By reducing the amount of overfitting, the model can learn more robust features.\n",
    "\n",
    "## Some jargon\n",
    "\n",
    "- filters: also called kernels. they are learnable parameters in a convolutional layer. Each filter is a small matrix (usually 3x3 or 5x5) that slides over the input image to detect specific features. The values in these filters are updated during training to learn important features for the task at hand.\n",
    "- activation maps: the output when a \\[Conv->Relu\\] filter interacts with entire image.\n",
    "- feature maps: the output of a convolutional layer. (before the activation)\n",
    "- depth: refers to the number of channels.\n",
    "- receptive field: the area of the input that a given filter is able to see at a time is called the receptive field.\n"
   ]
  },
  {
   "cell_type": "markdown",
   "metadata": {},
   "source": [
    "## A Simple CNN architecture\n",
    "\n",
    "Lets assume a simple task of image classification. The most common form of a CNN architecture stacks a few CONV-RELU layers, follows them with POOL layers, and repeats this pattern until the image volume has reduced to a small size. At some point, it is common to transition to fully-connected layers. The last fully-connected layer holds the output, such as the class scores. In other words, the most common ConvNet architectures follow the pattern:\n",
    "\n",
    "`INPUT -> [[CONV -> RELU]*N -> POOL?]*M -> [FC -> RELU]*K -> FC`\n",
    "\n",
    "here FC: feed-forward layer. \n",
    "\n",
    "Note that since architectures like [Resnet](https://arxiv.org/pdf/1512.03385) and [Inception](https://arxiv.org/pdf/1409.4842) emerged, this is not the case, and the CNNs feature more intricate and different connectivity structures."
   ]
  },
  {
   "cell_type": "markdown",
   "metadata": {},
   "source": [
    "## CNN characteristics\n",
    "\n",
    "While we are here, let us also take note of some characteristics of CNNs:\n",
    "\n",
    "* **Sparse connectivity**: CNNs focus on local patterns in data, particularly useful for spatial data like images. A single patch in feature map is connected to only a small patch of image (in MLPs there is dense/full connection).\n",
    "* **Parameter sharing**: the same kernel/filter slides across the image. ie different neurons in each activation map is calculated using the same filter. In MLPs each neuron in the output space is calculated using different weight values.  this makes it efficient for computation.\n",
    "* **Spatial hierarchy**: CNNs build a hierarchy of increasingly abstract features. Lower layers detect simple features (e.g., edges), while deeper layers combine these to detect more complex patterns.\n",
    "* **Translation invariance**: CNNs can recognize patterns regardless of their position in the input. This is because we are using filters that slide over patches of data, so information is processed in the same way for different patches of data This is crucial for tasks like object recognition in images.\n",
    "\n",
    "\n",
    "![visualizing activation maps in cnns. From the paper 'Visualizing and Understanding Convolutional Networks'](visualizing-activation-maps-cnns.png){#fig-cnn-activation-maps height=90%, width=90%}\n",
    "\n",
    "Have a look at [this](https://arxiv.org/pdf/1311.2901) wonderful paper that dives deep into visualizing and understanding Cnns."
   ]
  },
  {
   "cell_type": "markdown",
   "metadata": {},
   "source": [
    "## Lets train a model yaar\n",
    "\n",
    "I'd be remiss if I let you finish here thinking that you got CNNs down. Just for old times sake, lets train a model to classify images from the fashion mnist dataset. The dataset contains very small grayscale (ie single channel) images of size (28*28). \n",
    "\n",
    "> the below code is all generated by claude-sonnet-3.5, bcuz its kinda boring to train a toy model on a toy dataset, that too for classification. dont worry though, ill soon be back with a more interesting vision problem to get our hands dirty."
   ]
  },
  {
   "cell_type": "code",
   "execution_count": 22,
   "metadata": {},
   "outputs": [
    {
     "name": "stdout",
     "output_type": "stream",
     "text": [
      "device: mps\n",
      "----------------------------------------------------------------\n",
      "        Layer (type)               Output Shape         Param #\n",
      "================================================================\n",
      "            Conv2d-1           [-1, 32, 28, 28]             320\n",
      "         MaxPool2d-2           [-1, 32, 14, 14]               0\n",
      "            Conv2d-3           [-1, 64, 14, 14]          18,496\n",
      "         MaxPool2d-4             [-1, 64, 7, 7]               0\n",
      "            Conv2d-5             [-1, 32, 7, 7]          18,464\n",
      "         MaxPool2d-6             [-1, 32, 3, 3]               0\n",
      "            Linear-7                  [-1, 128]          36,992\n",
      "            Linear-8                   [-1, 10]           1,290\n",
      "================================================================\n",
      "Total params: 75,562\n",
      "Trainable params: 75,562\n",
      "Non-trainable params: 0\n",
      "----------------------------------------------------------------\n",
      "Input size (MB): 0.00\n",
      "Forward/backward pass size (MB): 0.37\n",
      "Params size (MB): 0.29\n",
      "Estimated Total Size (MB): 0.67\n",
      "----------------------------------------------------------------\n",
      "Epoch [1/5], Loss: 0.5107\n",
      "Epoch [2/5], Loss: 0.3174\n",
      "Epoch [3/5], Loss: 0.2693\n",
      "Epoch [4/5], Loss: 0.2401\n",
      "Epoch [5/5], Loss: 0.2185\n"
     ]
    },
    {
     "data": {
      "image/png": "[encoded data removed]",
      "text/plain": [
       "<Figure size 720x360 with 1 Axes>"
      ]
     },
     "metadata": {
      "needs_background": "light"
     },
     "output_type": "display_data"
    },
    {
     "name": "stdout",
     "output_type": "stream",
     "text": [
      "Test Accuracy: 90.38%\n"
     ]
    }
   ],
   "source": [
    "#| code-fold: false\n",
    "import torch\n",
    "import torch.nn as nn\n",
    "import torch.optim as optim\n",
    "import torchvision\n",
    "import torchvision.transforms as transforms\n",
    "from torch.utils.data import DataLoader\n",
    "import matplotlib.pyplot as plt\n",
    "from torchsummary import summary\n",
    "import numpy as np\n",
    "\n",
    "# Define the CNN architecture\n",
    "class SimpleCNN(nn.Module):\n",
    "    def __init__(self):\n",
    "        super(SimpleCNN, self).__init__()\n",
    "        self.conv1 = nn.Conv2d(1, 32, kernel_size=3, padding=1)     # input channels in layer1 is equal to number of input channels in the input image\n",
    "        self.conv2 = nn.Conv2d(32, 64, kernel_size=3, padding=1)\n",
    "        self.pool = nn.MaxPool2d(2, 2)\n",
    "        self.conv3 = nn.Conv2d(64, 32, kernel_size=3, padding=1)\n",
    "        self.fc1 = nn.Linear(32 * 3 * 3, 128)\n",
    "        self.fc2 = nn.Linear(128, 10)\n",
    "\n",
    "    def forward(self, x):\n",
    "        x = self.pool(torch.relu(self.conv1(x)))\n",
    "        x = self.pool(torch.relu(self.conv2(x)))\n",
    "        x = self.pool(torch.relu(self.conv3(x)))\n",
    "        x = x.view(-1, 32 * 3 * 3)     # flattening the tensor to feed it to FC layer\n",
    "        x = torch.relu(self.fc1(x))\n",
    "        x = self.fc2(x)\n",
    "        return x\n",
    "\n",
    "# Set device\n",
    "device = torch.device(\"cuda\" if torch.cuda.is_available() else \"mps\" if torch.backends.mps.is_built() else \"cpu\")\n",
    "print(f\"device: {device}\")\n",
    "\n",
    "# Load and preprocess the Fashion MNIST dataset (just plain old standardization)\n",
    "transform = transforms.Compose([transforms.ToTensor(), transforms.Normalize((0.5,), (0.5,))])\n",
    "\n",
    "train_dataset = torchvision.datasets.FashionMNIST(root='./data', train=True, download=True, transform=transform)\n",
    "test_dataset = torchvision.datasets.FashionMNIST(root='./data', train=False, download=True, transform=transform)\n",
    "\n",
    "train_loader = DataLoader(train_dataset, batch_size=64, shuffle=True)\n",
    "test_loader = DataLoader(test_dataset, batch_size=64, shuffle=False)\n",
    "\n",
    "# Initialize the model, loss function, and optimizer\n",
    "model = SimpleCNN()\n",
    "\n",
    "# Visualize model summary\n",
    "summary(model, (1, 28, 28), device=\"cpu\")\n",
    "\n",
    "model.to(device)\n",
    "\n",
    "criterion = nn.CrossEntropyLoss()\n",
    "optimizer = optim.Adam(model.parameters(), lr=0.001)\n",
    "\n",
    "# Training loop\n",
    "num_epochs = 5\n",
    "all_losses = []\n",
    "for epoch in range(num_epochs):\n",
    "    model.train()\n",
    "    epoch_losses = []\n",
    "    for batch_idx, (data, targets) in enumerate(train_loader):\n",
    "        data, targets = data.to(device), targets.to(device)\n",
    "        \n",
    "        optimizer.zero_grad()\n",
    "        outputs = model(data)\n",
    "        loss = criterion(outputs, targets)\n",
    "        loss.backward()\n",
    "        optimizer.step()\n",
    "        epoch_losses.append(loss.item())\n",
    "    \n",
    "    print(f\"Epoch [{epoch+1}/{num_epochs}], Loss: {np.mean(epoch_losses):.4f}\")\n",
    "    all_losses.extend(epoch_losses)\n",
    "\n",
    "# plot train loss curve\n",
    "plt.figure(figsize=(10, 5))\n",
    "plt.plot(all_losses)\n",
    "plt.xlabel('Epoch')\n",
    "plt.ylabel('Loss')\n",
    "plt.title('Training Loss Curve')\n",
    "plt.show()\n",
    "\n",
    "# Evaluation\n",
    "model.eval()\n",
    "correct = 0\n",
    "total = 0\n",
    "with torch.no_grad():\n",
    "    for data, targets in test_loader:\n",
    "        data, targets = data.to(device), targets.to(device)\n",
    "        outputs = model(data)\n",
    "        _, predicted = torch.max(outputs.data, 1)\n",
    "        total += targets.size(0)\n",
    "        correct += (predicted == targets).sum().item()\n",
    "\n",
    "print(f'Test Accuracy: {100 * correct / total:.2f}%')"
   ]
  },
  {
   "cell_type": "markdown",
   "metadata": {},
   "source": [
    "Neat!! \n",
    "Now let's visualize some of the predictions."
   ]
  },
  {
   "cell_type": "code",
   "execution_count": 16,
   "metadata": {},
   "outputs": [
    {
     "data": {
      "image/png": "[encoded data removed]",
      "text/plain": [
       "<Figure size 1080x432 with 10 Axes>"
      ]
     },
     "metadata": {
      "needs_background": "light"
     },
     "output_type": "display_data"
    }
   ],
   "source": [
    "#| code-fold: false\n",
    "\n",
    "import random\n",
    "\n",
    "class_names = ['T-shirt/top', 'Trouser', 'Pullover', 'Dress', 'Coat', \n",
    "               'Sandal', 'Shirt', 'Sneaker', 'Bag', 'Ankle boot']   # verify using train_dataset.classes\n",
    "\n",
    "model.eval()\n",
    "fig, axes = plt.subplots(2, 5, figsize=(15, 6))\n",
    "fig.suptitle('Sample Predictions', fontsize=16)\n",
    "\n",
    "with torch.no_grad():\n",
    "    for i, idx in enumerate(random.sample(range(len(test_dataset)), 10)):\n",
    "        image, label = test_dataset[idx]\n",
    "        output = model(image.unsqueeze(0).to(device))\n",
    "        predicted = output.argmax(1).item()\n",
    "        \n",
    "        ax = axes[i // 5, i % 5]\n",
    "        ax.imshow(image.squeeze(), cmap='gray')\n",
    "        ax.axis('off')\n",
    "        ax.set_title(f'Pred: {class_names[predicted]}\\nTrue: {class_names[label]}', \n",
    "                     color='green' if predicted == label else 'red')\n",
    "\n",
    "plt.tight_layout()\n",
    "plt.show()"
   ]
  },
  {
   "cell_type": "markdown",
   "metadata": {},
   "source": [
    "---\n",
    "\n",
    "I hope you clearly understand the core CNN fundamental architecture. This is just the base that'll act as a foundation for more interesting architectures as we go on. Until then, see you in the next one!\n",
    "\n",
    "Byeee :)"
   ]
  },
  {
   "cell_type": "markdown",
   "metadata": {},
   "source": [
    "## References\n",
    "\n",
    "- sebastian raschka course material [here](https://sebastianraschka.com/blog/2021/dl-course.html#l13-introduction-to-convolutional-neural-networks)\n",
    "- CS231N Cnn notes [here](https://cs231n.github.io/convolutional-networks/#case). Great intuition and more detail about the shapes, local connectivity, spatial arrangement, and loads of other stuff.\n",
    "- arc folder where i maintain things related to CNNs [here](https://arc.net/folder/08A8A6B3-0E12-4F25-A3B2-B3B956068848)\n",
    "- beginner friendly article on Medium (its a great blog-series for ML) [here](https://medium.com/@ageitgey/machine-learning-is-fun-part-3-deep-learning-and-convolutional-neural-networks-f40359318721)\n",
    "- Visualizing and Understanding Convolutional Networks. 2014 paper [here](https://arxiv.org/pdf/1311.2901)\n"
   ]
  }
 ],
 "metadata": {
  "kernelspec": {
   "display_name": "vision",
   "language": "python",
   "name": "vision"
  },
  "language_info": {
   "codemirror_mode": {
    "name": "ipython",
    "version": 3
   },
   "file_extension": ".py",
   "mimetype": "text/x-python",
   "name": "python",
   "nbconvert_exporter": "python",
   "pygments_lexer": "ipython3",
   "version": "3.9.7"
  }
 },
 "nbformat": 4,
 "nbformat_minor": 2
}
