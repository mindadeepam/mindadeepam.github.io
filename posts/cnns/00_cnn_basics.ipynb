{
 "cells": [
  {
   "cell_type": "markdown",
   "metadata": {},
   "source": [
    "---\n",
    "title: \"Intro to Convolution Neural Networks\"\n",
    "author: Deepam Minda\n",
    "date: \"July 30, 2024\"\n",
    "categories: [cnns, deep-learning]\n",
    "format:\n",
    "  html:\n",
    "    toc: true\n",
    "    toc-depth: 3\n",
    "    # html-math-method: katex\n",
    "    # css: ../../styles.css\n",
    "    code-fold: false\n",
    "  ipynb: default\n",
    "  # markdown: default\n",
    "execute:\n",
    "  warning: false\n",
    "---"
   ]
  },
  {
   "cell_type": "markdown",
   "metadata": {},
   "source": [
    "Welcome to the land of vision in deep learning. Gone are the days you need to look at 10 types of thresholding and 20 types of data pre-processing and apply a logistic classifier on the outputs of a cnn feature extractor. These days you can just load a pretrained model and watch a decaying training and validation loss and feel good about yourself.\n",
    "\n",
    "Turns out, this doesnt last long though. You eventually get around to understand what these models actually are because you need to! \n",
    "And when it comes to vision, you surely cannot leave out CNNs. Sure its all transformers nowadays but CNNs or convolutional neural networks were essentially the first deep learning models to make a significant impact in the field of computer vision and most would agree started the whole deep learning wave in the modern era. AlexNet, VGG, resnets would be considered the pioneer models in this field.\n",
    "\n",
    "Now you might ask: All this sounds interesting Deepam, but what the hell is a convolution? Let us understand convolutions and build a simple CNN model from scratch. \n",
    "\n",
    "The pre-requisites for this post are:\n",
    "\n",
    "- Basic understanding of python and numpy.\n",
    "- Basic understanding of neural networks and feed forward networks.\n",
    "\n",
    "\n",
    "## Convolutions\n",
    "\n",
    "Convolutions is just an operation between 2 signals (vectors/matrices/continuous-signals) that returns a 3rd signal. It represents how one signal modifies the other signal. In general terms, convolution is used to apply a filter to a signal or data. (We'll understand convolution for discrete signals)\n"
   ]
  },
  {
   "cell_type": "markdown",
   "metadata": {},
   "source": [
    "### Steps in Convolution\n",
    "\n",
    "Let's consider two signals: the input signal $(f)$ and the kernel/filter $(g)$.\n",
    "\n",
    "Convolution involves the following steps:\n",
    "\n",
    "1. **Prepare the Kernel**: Flip the kernel $(g)$ both horizontally and vertically. This step ensures the operation is commutative and maintains time-reversal properties. [More details](https://dsp.stackexchange.com/questions/5992/flipping-the-impulse-response-in-convolution/6355#6355)\n",
    "\n",
    "2. **Align and Slide**: Position the flipped kernel at the start of the input signal $(f)$. Then, systematically slide it across the entire length of $(f)$.\n",
    "\n",
    "3. **Multiply**: At each position, perform element-wise multiplication between the overlapping portions of the flipped kernel and the input signal.\n",
    "\n",
    "4. **Sum**: Add up all the products from step 3 to get a single value. This value represents the convolution result at the current position.\n",
    "\n",
    "5. **Record and Repeat**: Store the sum as an element in the output signal, then move the kernel to the next position and repeat steps 3-5 until the entire input signal has been covered.\n",
    "\n",
    "The resulting output signal represents how the kernel has \"filtered\" or modified the input signal, highlighting certain features or patterns based on the kernel's characteristics.\n",
    "\n",
    "This process can be extended to 2D (for images) or higher dimensions, where the kernel slides over the input in all dimensions."
   ]
  },
  {
   "cell_type": "markdown",
   "metadata": {},
   "source": [
    "For a 1d array this might look like this: "
   ]
  },
  {
   "cell_type": "code",
   "execution_count": 61,
   "metadata": {},
   "outputs": [
    {
     "name": "stdout",
     "output_type": "stream",
     "text": [
      "f: [ 1  2  3 -1 10 -4]\n",
      "g: [ 1  0 -1]\n",
      "inverted_g: [-1  0  1]\n",
      "\n",
      "Steps in convolution, slide inverted g (say g`) over f in a loop: \n",
      "\n",
      "step 1.1 element wise multiplication of f[0:3] and g`: [1 2 3] * [-1  0  1] = [-1  0  3]\n",
      "step 1.2 sum([-1  0  3]) = 2\n",
      "result: [2]\n",
      "\n",
      "step 2.1 element wise multiplication of f[1:4] and g`: [ 2  3 -1] * [-1  0  1] = [-2  0 -1]\n",
      "step 2.2 sum([-2  0 -1]) = -3\n",
      "result: [2, -3]\n",
      "\n",
      "step 3.1 element wise multiplication of f[2:5] and g`: [ 3 -1 10] * [-1  0  1] = [-3  0 10]\n",
      "step 3.2 sum([-3  0 10]) = 7\n",
      "result: [2, -3, 7]\n",
      "\n",
      "step 4.1 element wise multiplication of f[3:6] and g`: [-1 10 -4] * [-1  0  1] = [ 1  0 -4]\n",
      "step 4.2 sum([ 1  0 -4]) = -3\n",
      "result: [2, -3, 7, -3]\n",
      "\n",
      "\n",
      "final result of (f*g): [2, -3, 7, -3]\n"
     ]
    }
   ],
   "source": [
    "import numpy as np \n",
    "\n",
    "f = np.array([1,2,3,-1, 10, -4])\n",
    "g = np.array([1,0,-1])\n",
    "inverted_g = g[::-1]  # {-1 0 1}\n",
    "\n",
    "print(f\"f: {f}\")\n",
    "print(f\"g: {g}\")\n",
    "print(f\"inverted_g: {inverted_g}\")\n",
    "\n",
    "window_size = g.shape[0]\n",
    "result = []\n",
    "\n",
    "print(\"\\nSteps in convolution, slide inverted g (say g`) over f in a loop: \\n\")\n",
    "for idx, i in enumerate(range(len(f)-window_size+1)):\n",
    "    slice_of_f = f[i:i+window_size]\n",
    "    print(f\"step {idx+1}.1 element wise multiplication of f[{i}:{i+window_size}] and g`: {slice_of_f} * {inverted_g} = {slice_of_f * inverted_g}\")\n",
    "    print(f\"step {idx+1}.2 sum({slice_of_f * inverted_g}) = {np.sum(slice_of_f * inverted_g)}\")\n",
    "    result.append(np.sum(slice_of_f * inverted_g))\n",
    "    print(f\"result: {[result[j] for j in range(len(result))]}\\n\")\n",
    "\n",
    "print(f\"\\nfinal result of (f*g): {result}\")"
   ]
  },
  {
   "cell_type": "markdown",
   "metadata": {},
   "source": [
    "We also have a few types of convolutions, based on how much padding is added to the input signal:\n",
    "\n",
    "1. **Valid Convolution**: \n",
    "    - The output is smaller than the input. No padding is applied.\n",
    "    - Output length = length(f) - length(g) + 1 = 5 - 3 + 1 = 3\n",
    "\n",
    "2. **Same Convolution**: \n",
    "    - Padding is applied to keep the output size the same as the input. \n",
    "    - We add 1 zero on each side of the input: [0, 1, 2, 3, 4, 5, 0]. \n",
    "    - Output length = length(f) = 5\n",
    "\n",
    "3. **Full Convolution**: \n",
    "    - Maximum padding is applied. \n",
    "    - Output length = length(f) + length(g) - 1 = 5 + 3 - 1 = 7. \n",
    "    - Here, we add 2 zeros on each side of the input: [0, 0, 1, 2, 3, 4, 5, 0, 0]  \n",
    "    (num of zeros=length(g)-1)"
   ]
  },
  {
   "cell_type": "code",
   "execution_count": 74,
   "metadata": {},
   "outputs": [
    {
     "name": "stdout",
     "output_type": "stream",
     "text": [
      "Valid Convolution: [5 8]\n",
      "Same Convolution: [2 2 5 8 5]\n",
      "Full Convolution: [ 1  2  2  5  8  5  7 15]\n"
     ]
    }
   ],
   "source": [
    "f = np.array([1, 2, 3, 4, 5] )\n",
    "g = np.array([1,0,-1,3])\n",
    "\n",
    "print(f\"Valid Convolution: {np.convolve(f, g, mode='valid')}\")\n",
    "print(f\"Same Convolution: {np.convolve(f, g, mode='same')}\")\n",
    "print(f\"Full Convolution: {np.convolve(f, g, mode='full')}\")"
   ]
  },
  {
   "cell_type": "markdown",
   "metadata": {},
   "source": [
    "That wasnt so hard was it? The concept of convolution seems simple enough. Slide one signal over another and each time, do element wise multiplication and summation to get a value. \n",
    "\n",
    "Lets look at an example for 2d arrays.  \n",
    "\n",
    "Lets take 2 matrices $f$ & $g$ of shapes (5,5) and (3,3). First we need to flip the $g$ both horizontally and vertically. Then, for each $g$ sized block in $f$, we do element-wise multiplication then summation. This gives us a resulting (3,3) matrix (valid-convolution). \n",
    "\n",
    "Lets see how this works."
   ]
  },
  {
   "cell_type": "code",
   "execution_count": 89,
   "metadata": {},
   "outputs": [
    {
     "name": "stdout",
     "output_type": "stream",
     "text": [
      "(f): \n",
      "[[0.23919993 0.26375948 0.29688748 0.11150198 0.18742085]\n",
      " [0.03906332 0.84585776 0.93079439 0.71811113 0.0409505 ]\n",
      " [0.70677725 0.5303402  0.6267753  0.3776878  0.85878914]\n",
      " [0.55914983 0.44782982 0.05075409 0.67132382 0.70423151]\n",
      " [0.19054968 0.44657225 0.66843129 0.01343633 0.55834927]]\n",
      "\n",
      "(g): \n",
      "[[ 1  0 -1]\n",
      " [ 2  0 -2]\n",
      " [ 3  0 -3]]\n",
      "\n",
      "inverted g, ie (g`): \n",
      "[[-3  0  3]\n",
      " [-2  0  2]\n",
      " [-1  0  1]]\n",
      "\n"
     ]
    }
   ],
   "source": [
    "#| code-fold: true\n",
    "f = np.random.rand(5,5)\n",
    "g = np.array([[1,0,-1],[2,0,-2],[3,0,-3]])\n",
    "inverted_g = g[::-1, ::-1]\n",
    "print(f\"(f): \\n{f}\\n\")\n",
    "print(f\"(g): \\n{g}\\n\")\n",
    "print(f\"inverted g, ie (g`): \\n{inverted_g}\\n\")\n"
   ]
  },
  {
   "cell_type": "code",
   "execution_count": 90,
   "metadata": {},
   "outputs": [
    {
     "name": "stdout",
     "output_type": "stream",
     "text": [
      "Convolution steps:\n",
      "step 1\n",
      "->sum(f[0:3, 0:3] * g`): \n",
      "[[-0.7175998   0.          0.89066245]\n",
      " [-0.07812665  0.          1.86158878]\n",
      " [-0.70677725  0.          0.6267753 ]]\n",
      "result[0,0] -> 1.8765\n",
      "\n",
      "step 2\n",
      "->sum(f[1:4, 0:3] * g`): \n",
      "[[-0.11718997  0.          2.79238318]\n",
      " [-1.4135545   0.          1.25355059]\n",
      " [-0.55914983  0.          0.05075409]]\n",
      "result[1,0] -> 2.0068\n",
      "\n",
      "step 3\n",
      "->sum(f[2:5, 0:3] * g`): \n",
      "[[-2.12033176  0.          1.88032589]\n",
      " [-1.11829965  0.          0.10150818]\n",
      " [-0.19054968  0.          0.66843129]]\n",
      "result[2,0] -> -0.7789\n",
      "\n",
      "... and so on.\n",
      "\n",
      "final result: \n",
      "[[ 1.87652283 -0.86491817 -1.87607385]\n",
      " [ 2.00679355 -0.46505069 -1.55202658]\n",
      " [-0.77891572 -0.44410511  1.89291435]]\n",
      "\n"
     ]
    }
   ],
   "source": [
    "#| code-fold: true\n",
    "f_rows, f_columns = f.shape \n",
    "g_rows, g_columns = g.shape\n",
    "\n",
    "result = np.zeros((f_rows-g_rows+1, f_columns-g_columns+1))\n",
    "print(f\"Convolution steps:\")\n",
    "for i in range(f_rows-g_rows+1):\n",
    "    for j in range(f_columns-g_columns+1):\n",
    "        item = f[i:i+g_rows, j:j+g_columns] * inverted_g\n",
    "        if i<3 and j==0:\n",
    "            print(f\"step {i+j+1}\\n->sum(f[{i}:{i+g_rows}, {j}:{j+g_columns}] * g`): \\n{item}\")\n",
    "            print(f\"result[{i},{j}] -> {np.sum(item):.4f}\\n\")\n",
    "        result[i,j] = np.sum(item)\n",
    "print(\"... and so on.\\n\")\n",
    "print(f\"final result: \\n{result}\\n\")\n"
   ]
  },
  {
   "cell_type": "markdown",
   "metadata": {},
   "source": [
    "## Neural networks\n",
    "\n",
    "Now that we clearly understand what a convolution is, lets get back to neural networks. Suppose you wanted to classify images before CNNs were developed. How would you do it? In most cases, you would use some pre-determined filters to extract features from the images and then use a fully connected network to classify the images. Those features could be:\n",
    "\n",
    "1. Edge filters: Used to detect edges in images. Common edge detection filters include:\n",
    "   - Sobel filter: Emphasizes horizontal or vertical edges\n",
    "   - Prewitt filter: Similar to Sobel, but with different coefficients\n",
    "   - Laplacian filter: Detects edges in all directions\n",
    "\n",
    "2. Texture filters: Used to capture texture information:\n",
    "   - Gabor filters: Detect specific frequencies and orientations\n",
    "   - Laws' texture energy measures: A set of filters for texture analysis\n",
    "\n",
    "3. Color histograms: Represent the distribution of colors in an image\n",
    "\n",
    "4. SIFT (Scale-Invariant Feature Transform): Detects and describes local features in images\n",
    "\n",
    "5. HOG (Histogram of Oriented Gradients): Counts occurrences of gradient orientations in localized portions of an image\n",
    "\n",
    "6. Haar-like features: Used in face detection, these features look at rectangular regions and sum up pixel intensities\n",
    "\n",
    "After applying these filters, you would typically:\n",
    "\n",
    "1. Extract the resulting features\n",
    "2. Possibly apply dimensionality reduction techniques like PCA\n",
    "3. Feed the processed features into a classifier such as SVM, Random Forest, or a simple neural network\n",
    "\n",
    "This approach, while effective for certain tasks, had limitations:\n",
    "- Handcrafted features might not capture all relevant information\n",
    "- The process was often computationally expensive\n",
    "- Feature engineering required domain expertise\n",
    "\n",
    "CNNs addressed these issues by learning the filters automatically during training, leading to more effective and adaptable vision models."
   ]
  },
  {
   "cell_type": "markdown",
   "metadata": {},
   "source": [
    "## Convolutional neural networks (CNNs/Convnets)\n",
    "\n",
    "We now understand why handcrafted fatures are hard to come up with. Lets back up for a second and remember our old friends feed forward (FF) networks. What is the problem with using feed forward networks to process images? Specifically why dont we just give the FF network the raw pixels and let it learn?\n",
    "\n",
    "As it turns out, there are quite a few things:\n",
    "\n",
    "Suppose we have a (224,224,3) sized input-image. Thats a total of 150528 data-points. suppose i want to have a output vector of length 1000 (classifier with 1k classes), this gives me a total of roughly 150k * 1k = 150 million parameters, where we have 1k parameters for each input pixel! That is a LOTT of parameters. \n",
    "\n",
    "So how can we use the inherent nature of images and image-data to construct better models? We also learned convolutions in the previous section. Maybe that gives you some hint?\n",
    "\n",
    "Pixel data is inherently very locally dependent. This is very different from tabular data, for example, a housing price dataset where each feature is largely independent of each other. By design feedforward networks do not allow for this kind of information to be shared between different data points in the network. This is beacause for each linear layer, a output shaped weight matrix is learned for each point in the input. This seems very inefficient. \n",
    "\n",
    "What if instead of treating each individual pixel as a different input, we treat a patch of pixels as a single input? This means we get one output for a patch of pixels. This is done via convolution. We can learn a lot of small filters that will interact with our image and get us some useful features which can then be fed to a FF network. \n",
    "\n",
    "This is exactly what a convolutional layer does. It consists of a set of learnable filters that slide over the input image and compute the output. If the input image is of size $(H_{in}, W_{in}, C_{in})$, and we have $C_{out}$ filters of size $(k,k,C_{in})$, the output of the convolutional layer is of size $(H_{out}, W_{out}, C_{out})$. \n",
    "Each filter slides over the entire input volume and produces a 2d matrix of size $(H_{out}, W_{out})$. And this is done for all the filters in the layer. So the output of the convolutional layer is a 3d tensor of size $(H_{out}, W_{out}, C_{out})$.\n",
    "\n",
    "Note that the filters will always have depth equal to the input volume's depth.\n",
    "\n",
    "The number of parameters learned here would be $(k*k*C_{in}*C_{out})$. So for a conv layer with 64 filters of size (3x3) for an input image of size (224x224x3), we would have 1792 parameters, ehich is orders of magnitutde smaller already. Much more efficient isn't it?\n",
    "\n",
    "<!-- \n",
    "1. Feed forward networks do not share information between different data points in the network. For example if X = [0,1,2,3] is a vector of input to the network, all the interactions between weights happen independently for each data point in one sample of data.\n",
    "This works fine for tabular features of some data, because they actually are not dependent on their spatial postion wrt each other. The model will learn the same if you shuffle all columns of a dataset. <br><br>But images pixels are a different type of data. They are inherently very locally dependent. If you look at a single pixel, it is very likely to be highly correlated with its neighboring pixels. Hence our network should process atleast patches of images at a time. \n",
    "\n",
    "2. Earlier when classical image processing methods were being used, many a times hand-made \"filters\" were used to extract features from images. In CNNs, we learn these filters! and we learn a lot of them. So think of each layer in this CNN as having a lot of these filters which are learned during network. We'll soon visualize what concepts they learn.\n",
    "\n",
    "3. Another concept that helps is parameter sharing. We could in thoery have different set of filters for different patches in the image, but this would shoot up the parameter count of our model. So in a single layer, we use a single set of filters for all patches in the image. -->\n"
   ]
  },
  {
   "cell_type": "code",
   "execution_count": 54,
   "metadata": {},
   "outputs": [
    {
     "name": "stdout",
     "output_type": "stream",
     "text": [
      "==========================================================================================\n",
      "Layer (type:depth-idx)                   Output Shape              Param #\n",
      "==========================================================================================\n",
      "Linear                                   [1, 1000]                 150,529,000\n",
      "==========================================================================================\n",
      "Total params: 150,529,000\n",
      "Trainable params: 150,529,000\n",
      "Non-trainable params: 0\n",
      "Total mult-adds (M): 150.53\n",
      "==========================================================================================\n",
      "Input size (MB): 0.60\n",
      "Forward/backward pass size (MB): 0.01\n",
      "Params size (MB): 602.12\n",
      "Estimated Total Size (MB): 602.73\n",
      "==========================================================================================\n",
      "==========================================================================================\n",
      "Layer (type:depth-idx)                   Output Shape              Param #\n",
      "==========================================================================================\n",
      "Conv2d                                   [1, 64, 224, 224]         1,792\n",
      "==========================================================================================\n",
      "Total params: 1,792\n",
      "Trainable params: 1,792\n",
      "Non-trainable params: 0\n",
      "Total mult-adds (M): 89.92\n",
      "==========================================================================================\n",
      "Input size (MB): 0.60\n",
      "Forward/backward pass size (MB): 25.69\n",
      "Params size (MB): 0.01\n",
      "Estimated Total Size (MB): 26.30\n",
      "==========================================================================================\n"
     ]
    }
   ],
   "source": [
    "import torchinfo \n",
    "import torch.nn as nn\n",
    "\n",
    "model = nn.Linear(150528, 1000)\n",
    "print(torchinfo.summary(model, input_size=(1, 150528)))\n",
    "\n",
    "model = nn.Conv2d(3, 64, kernel_size=3, stride=1, padding=1)\n",
    "print(torchinfo.summary(model, input_size=(1, 3, 224, 224)))"
   ]
  },
  {
   "cell_type": "markdown",
   "metadata": {},
   "source": [
    "Let us visualize the shapes of the input and output of a convolutional layer. (ignoring batch dimension for simplicity)\n",
    "\n",
    "Images are typically represented as 3D tensors: $(H_{in}, W_{in}, C_{in})$\n",
    "\n",
    "Think of this as a stack of 2D images, where:\n",
    "- $H_{in}$ is the height\n",
    "- $W_{in}$ is the width\n",
    "- $C_{in}$ is the number of channels (e.g., 3 for RGB)\n",
    "\n",
    "Now, let's break down the convolution operation:\n",
    "\n",
    "1. The Filter (or Kernel)\n",
    "   - We have $C_{out}$ filters, each of size $(k, k, C_{in})$\n",
    "   - Each filter slides across the entire input image\n",
    "\n",
    "2. The Sliding Window\n",
    "   - Imagine a window of size $(k, k)$ moving across the image\n",
    "   - At each position, we perform a dot product between the filter and the image patch\n",
    "\n",
    "3. The Output\n",
    "   - For each filter, we get a 2D output $(H_{out}, W_{out})$\n",
    "   - Stacking these for all $C_{out}$ filters gives us $(H_{out}, W_{out}, C_{out})$\n",
    "\n",
    "Key Parameters:\n",
    "- Stride ($S$): How many pixels we move the filter each step, if stride is 1, the filter moves 1 pixel inat a time. Doubling the stride will reduce output size by half.\n",
    "- Padding ($P$): Extra zeros added around the input image edges. Image can be padded with other values too. padding is done on both sides of the height and width dimensions.\n",
    "\n",
    "Output Size Formula:\n",
    "\n",
    "- $H_{out} = (H_{in} - k + 2P) / S + 1$\n",
    "- $W_{out} = (W_{in} - k + 2P) / S + 1$\n",
    "\n",
    "Intuition:\n",
    "- Larger stride → Smaller output (we're skipping pixels)\n",
    "- More padding → Larger output (we're adding extra space to convolve over) (as we saw in different types of convolution)\n",
    "\n",
    "\n",
    "Summarising, \n",
    "\n",
    "- input: $(H_{in}, W_{in}, C_{in})$\n",
    "- conv_layer params:\n",
    "    - filter: $(k, k, C_{in})$\n",
    "    - num_filters: $C_{out}$\n",
    "    - stride: $S$\n",
    "    - padding: $P$\n",
    "\n",
    "- output: $(H_{out}, W_{out}, C_{out})$, where \n",
    "   - $H_{out} = (H_{in} - k + 2P) / S + 1$\n",
    "   - $W_{out} = (W_{in} - k + 2P) / S + 1$\n",
    "\n",
    "For a visual understanding of how all these parameters interact, check out this [convolution visualizer](https://ezyang.github.io/convolution-visualizer/)."
   ]
  },
  {
   "cell_type": "markdown",
   "metadata": {},
   "source": [
    "## Other layers\n",
    "\n",
    "Conolutional layers are usually followed by activation functions like ReLU and then a pooling layer.\n",
    "\n",
    "### Pooling layer\n",
    "Pooling layer? Yes, pooling layer. \n",
    "Given a volume of input, instead of using filters, we can use non-parameterized operations like min and max to downsample the data and get a smaller volume. That's what pooling does. It reduces the H and W dimensions of the input volume, keeping the depth the same. But why would we do something like that? Two main reasons:\n",
    "\n",
    "1. Reduce the number of parameters: By reducing the number of parameters, the model can learn more general features.\n",
    "2. Reduce the amount of overfitting: By reducing the amount of overfitting, the model can learn more robust features.\n",
    "\n",
    "The entire operation is the same as the convolutional layer except instead of convolving $f$ with a filter $g$ of size $(k,k, C_{in})$, we take the max/mean of $f$ for each patch of size $(k,k, C_{in})$.\n",
    "\n",
    "Let's look at an example of max pooling, which is the most common type of pooling:"
   ]
  },
  {
   "cell_type": "code",
   "execution_count": 81,
   "metadata": {},
   "outputs": [
    {
     "name": "stdout",
     "output_type": "stream",
     "text": [
      "Input:\n",
      "[[1 3 2 1]\n",
      " [5 6 4 2]\n",
      " [7 8 9 4]\n",
      " [1 2 3 5]]\n",
      "\n",
      "After 2x2 Max Pooling:\n",
      "Result: \n",
      "[[ max(f[0:2, 0:2]) max(f[0:2, 2:4])]\n",
      " [ max(f[2:4, 0:2]) max(f[2:4, 2:4])]]\n",
      "\n",
      "[[6. 4.]\n",
      " [8. 9.]]\n"
     ]
    }
   ],
   "source": [
    "# Input feature map\n",
    "input = np.array([\n",
    "[1, 3, 2, 1],\n",
    "[5, 6, 4, 2],\n",
    "[7, 8, 9, 4],\n",
    "[1, 2, 3, 5]\n",
    "])\n",
    "\n",
    "# Max pooling with 2x2 filter and stride 2\n",
    "def max_pool_2x2(input):\n",
    "    height, width = input.shape\n",
    "    output_height, output_width = height // 2, width // 2\n",
    "    output = np.zeros((output_height, output_width))\n",
    "    for i in range(output_height):\n",
    "        for j in range(output_width):\n",
    "            output[i, j] = np.max(input[2*i:2*i+2, 2*j:2*j+2])\n",
    "    return output\n",
    "\n",
    "result = max_pool_2x2(input)\n",
    "print(\"Input:\")\n",
    "print(input)\n",
    "print(\"\\nAfter 2x2 Max Pooling:\")\n",
    "print(f\"\"\"Result: \n",
    "[[ max(f[0:2, 0:2]) max(f[0:2, 2:4])]\n",
    " [ max(f[2:4, 0:2]) max(f[2:4, 2:4])]]\n",
    "\"\"\")\n",
    "print(result)"
   ]
  },
  {
   "cell_type": "markdown",
   "metadata": {},
   "source": [
    "As you can see, max pooling takes the maximum value in each 2x2 region, effectively reducing the spatial dimensions of the feature map while retaining the most prominent features.\n",
    "\n",
    "### Activation layer\n",
    "\n",
    "Activations used are sigmoid, ReLu, and tanh. Since VGGs and deeper networks use ReLu, it is common to see ReLu used in CNNs. This is because ReLu partially solves the vanishing gradient problem, which is a common problem in deep networks. Read more about this [here](https://stats.stackexchange.com/a/240491). \n",
    "\n",
    "But what the ReLU layer does is very simple, it applies max(0, x) to each element in the input. Effectively, it zeros out negative values, and leaves positive values unchanged.\n"
   ]
  },
  {
   "cell_type": "markdown",
   "metadata": {},
   "source": [
    "## Other jargon\n",
    "\n",
    "Before we dive into training a model, let's review some important jargon related to CNNs:\n",
    "\n",
    "- filters: also called kernels. they are learnable parameters in a convolutional layer. Each filter is a small matrix (usually 3x3 or 5x5) that slides over the input image to detect specific features. The values in these filters are updated during training to learn important features for the task at hand.\n",
    "- activation maps: the output when a \\[Conv->Relu\\] filter interacts with entire image.\n",
    "- feature maps: the output of a convolutional layer. (before the activation)\n",
    "- depth: refers to the number of channels.\n",
    "- receptive field: the area of the input that a given filter is able to see at a time is called the receptive field."
   ]
  },
  {
   "cell_type": "markdown",
   "metadata": {},
   "source": [
    "## A Simple CNN architecture\n",
    "\n",
    "Lets assume a simple task of image classification. The most common form of a CNN architecture stacks a few CONV-RELU layers, follows them with POOL layers, and repeats this pattern until the image volume has reduced to a small size. At some point, it is common to transition to fully-connected layers. The last fully-connected layer holds the output, such as the class scores. In other words, the most common ConvNet architectures follow the pattern:\n",
    "\n",
    "`INPUT -> [[CONV -> RELU]*N -> POOL?]*M -> [FC -> RELU]*K -> FC`\n",
    "\n",
    "here FC: feed-forward layer. \n",
    "\n",
    "Note that since architectures like [Resnet](https://arxiv.org/pdf/1512.03385) and [Inception](https://arxiv.org/pdf/1409.4842) emerged, this is not the case, and the CNNs feature more intricate and different connectivity structures."
   ]
  },
  {
   "cell_type": "markdown",
   "metadata": {},
   "source": [
    "## CNN characteristics\n",
    "\n",
    "While we are here, let us also take note of some characteristics of CNNs:\n",
    "\n",
    "* **Sparse connectivity**: CNNs focus on local patterns in data, particularly useful for spatial data like images. A single patch in feature map is connected to only a small patch of image (in MLPs there is dense/full connection).\n",
    "* **Parameter sharing**: the same kernel/filter slides across the image. ie different neurons in each activation map is calculated using the same filter. In MLPs each neuron in the output space is calculated using different weight values.  this makes it efficient for computation.\n",
    "* **Spatial hierarchy**: CNNs build a hierarchy of increasingly abstract features. Lower layers detect simple features (e.g., edges), while deeper layers combine these to detect more complex patterns.\n",
    "* **Translation invariance**: CNNs can recognize patterns regardless of their position in the input. This is because we are using filters that slide over patches of data, so information is processed in the same way for different patches of data This is crucial for tasks like object recognition in images.\n",
    "\n",
    "\n",
    "![visualizing activation maps in cnns. From the paper 'Visualizing and Understanding Convolutional Networks'](visualizing-activation-maps-cnns.png){#fig-cnn-activation-maps height=90%, width=90%}\n",
    "\n",
    "Have a look at [this](https://arxiv.org/pdf/1311.2901) wonderful paper that dives deep into visualizing and understanding Cnns."
   ]
  },
  {
   "cell_type": "markdown",
   "metadata": {},
   "source": [
    "## Lets train a model yaar\n",
    "\n",
    "I'd be remiss if I let you finish here thinking that you got CNNs down. Just for old times sake, lets train a model to classify images from the fashion mnist dataset. The dataset contains very small grayscale (ie single channel) images of size (28*28). \n",
    "\n",
    "> the below code is all generated by claude-sonnet-3.5, bcuz its kinda boring to train a toy model on a toy dataset, that too for classification. dont worry though, ill soon be back with a more interesting vision problem to get our hands dirty.\n",
    "\n",
    "Training itself is pretty straightforward. We split the data into train-test, and then train the model for a few epochs. We use the Adam optimizer and CrossEntropyLoss as the loss function. The outputs of the model are bare logits, which the loss functions accepts with targets. A learning rate of 0.001 is used for the optimizer. \n",
    "In the end we test on the test set, and print the accuracy. "
   ]
  },
  {
   "cell_type": "code",
   "execution_count": 22,
   "metadata": {},
   "outputs": [
    {
     "name": "stdout",
     "output_type": "stream",
     "text": [
      "device: mps\n",
      "----------------------------------------------------------------\n",
      "        Layer (type)               Output Shape         Param #\n",
      "================================================================\n",
      "            Conv2d-1           [-1, 32, 28, 28]             320\n",
      "         MaxPool2d-2           [-1, 32, 14, 14]               0\n",
      "            Conv2d-3           [-1, 64, 14, 14]          18,496\n",
      "         MaxPool2d-4             [-1, 64, 7, 7]               0\n",
      "            Conv2d-5             [-1, 32, 7, 7]          18,464\n",
      "         MaxPool2d-6             [-1, 32, 3, 3]               0\n",
      "            Linear-7                  [-1, 128]          36,992\n",
      "            Linear-8                   [-1, 10]           1,290\n",
      "================================================================\n",
      "Total params: 75,562\n",
      "Trainable params: 75,562\n",
      "Non-trainable params: 0\n",
      "----------------------------------------------------------------\n",
      "Input size (MB): 0.00\n",
      "Forward/backward pass size (MB): 0.37\n",
      "Params size (MB): 0.29\n",
      "Estimated Total Size (MB): 0.67\n",
      "----------------------------------------------------------------\n",
      "Epoch [1/5], Loss: 0.5107\n",
      "Epoch [2/5], Loss: 0.3174\n",
      "Epoch [3/5], Loss: 0.2693\n",
      "Epoch [4/5], Loss: 0.2401\n",
      "Epoch [5/5], Loss: 0.2185\n"
     ]
    },
    {
     "data": {
      "image/png": "[encoded data removed]",
      "text/plain": [
       "<Figure size 720x360 with 1 Axes>"
      ]
     },
     "metadata": {
      "needs_background": "light"
     },
     "output_type": "display_data"
    },
    {
     "name": "stdout",
     "output_type": "stream",
     "text": [
      "Test Accuracy: 90.38%\n"
     ]
    }
   ],
   "source": [
    "#| code-fold: false\n",
    "import torch\n",
    "import torch.nn as nn\n",
    "import torch.optim as optim\n",
    "import torchvision\n",
    "import torchvision.transforms as transforms\n",
    "from torch.utils.data import DataLoader\n",
    "import matplotlib.pyplot as plt\n",
    "from torchsummary import summary\n",
    "import numpy as np\n",
    "\n",
    "# Define the CNN architecture\n",
    "class SimpleCNN(nn.Module):\n",
    "    def __init__(self):\n",
    "        super(SimpleCNN, self).__init__()\n",
    "        self.conv1 = nn.Conv2d(1, 32, kernel_size=3, padding=1)     # input channels in layer1 is equal to number of input channels in the input image\n",
    "        self.conv2 = nn.Conv2d(32, 64, kernel_size=3, padding=1)\n",
    "        self.pool = nn.MaxPool2d(2, 2)\n",
    "        self.conv3 = nn.Conv2d(64, 32, kernel_size=3, padding=1)\n",
    "        self.fc1 = nn.Linear(32 * 3 * 3, 128)\n",
    "        self.fc2 = nn.Linear(128, 10)\n",
    "\n",
    "    def forward(self, x):\n",
    "        x = self.pool(torch.relu(self.conv1(x)))\n",
    "        x = self.pool(torch.relu(self.conv2(x)))\n",
    "        x = self.pool(torch.relu(self.conv3(x)))\n",
    "        x = x.view(-1, 32 * 3 * 3)     # flattening the tensor to feed it to FC layer\n",
    "        x = torch.relu(self.fc1(x))\n",
    "        x = self.fc2(x)\n",
    "        return x\n",
    "\n",
    "# Set device\n",
    "device = torch.device(\"cuda\" if torch.cuda.is_available() else \"mps\" if torch.backends.mps.is_built() else \"cpu\")\n",
    "print(f\"device: {device}\")\n",
    "\n",
    "# Load and preprocess the Fashion MNIST dataset (just plain old standardization)\n",
    "transform = transforms.Compose([transforms.ToTensor(), transforms.Normalize((0.5,), (0.5,))])\n",
    "\n",
    "train_dataset = torchvision.datasets.FashionMNIST(root='./data', train=True, download=True, transform=transform)\n",
    "test_dataset = torchvision.datasets.FashionMNIST(root='./data', train=False, download=True, transform=transform)\n",
    "\n",
    "train_loader = DataLoader(train_dataset, batch_size=64, shuffle=True)\n",
    "test_loader = DataLoader(test_dataset, batch_size=64, shuffle=False)\n",
    "\n",
    "# Initialize the model, loss function, and optimizer\n",
    "model = SimpleCNN()\n",
    "\n",
    "# Visualize model summary\n",
    "summary(model, (1, 28, 28), device=\"cpu\")\n",
    "\n",
    "model.to(device)\n",
    "\n",
    "criterion = nn.CrossEntropyLoss()\n",
    "optimizer = optim.Adam(model.parameters(), lr=0.001)\n",
    "\n",
    "# Training loop\n",
    "num_epochs = 5\n",
    "all_losses = []\n",
    "for epoch in range(num_epochs):\n",
    "    model.train()\n",
    "    epoch_losses = []\n",
    "    for batch_idx, (data, targets) in enumerate(train_loader):\n",
    "        data, targets = data.to(device), targets.to(device)\n",
    "        \n",
    "        optimizer.zero_grad()\n",
    "        outputs = model(data)\n",
    "        loss = criterion(outputs, targets)\n",
    "        loss.backward()\n",
    "        optimizer.step()\n",
    "        epoch_losses.append(loss.item())\n",
    "    \n",
    "    print(f\"Epoch [{epoch+1}/{num_epochs}], Loss: {np.mean(epoch_losses):.4f}\")\n",
    "    all_losses.extend(epoch_losses)\n",
    "\n",
    "# plot train loss curve\n",
    "plt.figure(figsize=(10, 5))\n",
    "plt.plot(all_losses)\n",
    "plt.xlabel('Epoch')\n",
    "plt.ylabel('Loss')\n",
    "plt.title('Training Loss Curve')\n",
    "plt.show()\n",
    "\n",
    "# Evaluation\n",
    "model.eval()\n",
    "correct = 0\n",
    "total = 0\n",
    "with torch.no_grad():\n",
    "    for data, targets in test_loader:\n",
    "        data, targets = data.to(device), targets.to(device)\n",
    "        outputs = model(data)\n",
    "        _, predicted = torch.max(outputs.data, 1)\n",
    "        total += targets.size(0)\n",
    "        correct += (predicted == targets).sum().item()\n",
    "\n",
    "print(f'Test Accuracy: {100 * correct / total:.2f}%')"
   ]
  },
  {
   "cell_type": "markdown",
   "metadata": {},
   "source": [
    "Neat!! \n",
    "Now let's visualize some of the predictions."
   ]
  },
  {
   "cell_type": "code",
   "execution_count": 26,
   "metadata": {},
   "outputs": [
    {
     "data": {
      "image/png": "[encoded data removed]",
      "text/plain": [
       "<Figure size 1080x432 with 10 Axes>"
      ]
     },
     "metadata": {
      "needs_background": "light"
     },
     "output_type": "display_data"
    }
   ],
   "source": [
    "#| code-fold: false\n",
    "\n",
    "import random\n",
    "\n",
    "class_names = ['T-shirt/top', 'Trouser', 'Pullover', 'Dress', 'Coat', \n",
    "               'Sandal', 'Shirt', 'Sneaker', 'Bag', 'Ankle boot']   # verify using train_dataset.classes\n",
    "\n",
    "model.eval()\n",
    "fig, axes = plt.subplots(2, 5, figsize=(15, 6))\n",
    "fig.suptitle('Sample Predictions', fontsize=16)\n",
    "\n",
    "with torch.no_grad():\n",
    "    for i, idx in enumerate(random.sample(range(len(test_dataset)), 10)):\n",
    "        image, label = test_dataset[idx]\n",
    "        output = model(image.unsqueeze(0).to(device))\n",
    "        predicted = output.argmax(1).item()\n",
    "        \n",
    "        ax = axes[i // 5, i % 5]\n",
    "        ax.imshow(image.squeeze(), cmap='gray')\n",
    "        ax.axis('off')\n",
    "        ax.set_title(f'Pred: {class_names[predicted]}\\nTrue: {class_names[label]}', \n",
    "                     color='green' if predicted == label else 'red')\n",
    "\n",
    "plt.tight_layout()\n",
    "plt.show()"
   ]
  },
  {
   "cell_type": "markdown",
   "metadata": {},
   "source": [
    "Now let us visualize the confisuion matrix to exactly see how the model is doing."
   ]
  },
  {
   "cell_type": "code",
   "execution_count": 30,
   "metadata": {},
   "outputs": [
    {
     "data": {
      "image/png": "[encoded data removed]",
      "text/plain": [
       "<Figure size 720x576 with 2 Axes>"
      ]
     },
     "metadata": {
      "needs_background": "light"
     },
     "output_type": "display_data"
    }
   ],
   "source": [
    "# see the confusion matrix\n",
    "from sklearn.metrics import confusion_matrix\n",
    "import matplotlib.pyplot as plt\n",
    "\n",
    "# Collect predictions and true labels\n",
    "y_true, y_pred = [], []\n",
    "model.eval()\n",
    "with torch.no_grad():\n",
    "    for data, targets in test_loader:\n",
    "        data, targets = data.to(device), targets.to(device)\n",
    "        outputs = model(data)\n",
    "        _, predicted = torch.max(outputs.data, 1)\n",
    "        y_true.extend(targets.cpu().numpy())\n",
    "        y_pred.extend(predicted.cpu().numpy())\n",
    "\n",
    "# Create and plot confusion matrix\n",
    "cm = confusion_matrix(y_true, y_pred)\n",
    "plt.figure(figsize=(10, 8))\n",
    "plt.imshow(cm, interpolation='nearest', cmap=\"Pastel1\")\n",
    "plt.title('Confusion Matrix')\n",
    "plt.colorbar()\n",
    "tick_marks = range(len(class_names))\n",
    "plt.xticks(tick_marks, class_names, rotation=45)\n",
    "plt.yticks(tick_marks, class_names)\n",
    "plt.xlabel('Predicted')\n",
    "plt.ylabel('True')\n",
    "\n",
    "# Add text annotations\n",
    "for i in range(cm.shape[0]):\n",
    "    for j in range(cm.shape[1]):\n",
    "        plt.text(j, i, str(cm[i, j]), ha=\"center\", va=\"center\")\n",
    "\n",
    "plt.tight_layout()\n",
    "plt.show()"
   ]
  },
  {
   "cell_type": "markdown",
   "metadata": {},
   "source": [
    "We can see that the model is particularly confused in the \"Tshirt\" & \"Shirt\" class (less than 70% accuracy) and most confident in \"Trouser\", \"Sneaker\", \"Bag\" and \"Ankle boot\" (greater than 95% accuracy)"
   ]
  },
  {
   "cell_type": "markdown",
   "metadata": {},
   "source": [
    "\n",
    "## Concluding\n",
    "\n",
    "I hope you clearly understand the core CNN fundamental architecture. This is just the base that'll act as a foundation for more interesting architectures as we go on. Until then, see you in the next one!\n",
    "\n",
    "Byeee :)"
   ]
  },
  {
   "cell_type": "markdown",
   "metadata": {},
   "source": [
    "## References and Further Reading\n",
    "\n",
    "- sebastian raschka course material [here](https://sebastianraschka.com/blog/2021/dl-course.html#l13-introduction-to-convolutional-neural-networks)\n",
    "- CS231N Cnn notes [here](https://cs231n.github.io/convolutional-networks/#case). Great intuition and more detail about the shapes, local connectivity, spatial arrangement, and loads of other stuff.\n",
    "- beginner friendly article on Medium (its a great blog-series for ML) [here](https://medium.com/@ageitgey/machine-learning-is-fun-part-3-deep-learning-and-convolutional-neural-networks-f40359318721)\n",
    "- Visualizing and Understanding Convolutional Networks. 2014 paper [here](https://arxiv.org/pdf/1311.2901)\n",
    "- Find out some of the modifications made on this basic architecture. This is recommended further reading. [here](https://towardsdatascience.com/10-papers-you-should-read-to-understand-image-classification-in-the-deep-learning-era-4b9d792f45a7)"
   ]
  }
 ],
 "metadata": {
  "kernelspec": {
   "display_name": "vision",
   "language": "python",
   "name": "vision"
  },
  "language_info": {
   "codemirror_mode": {
    "name": "ipython",
    "version": 3
   },
   "file_extension": ".py",
   "mimetype": "text/x-python",
   "name": "python",
   "nbconvert_exporter": "python",
   "pygments_lexer": "ipython3",
   "version": "3.9.7"
  }
 },
 "nbformat": 4,
 "nbformat_minor": 2
}
