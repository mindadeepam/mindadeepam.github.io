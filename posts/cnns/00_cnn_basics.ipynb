{
 "cells": [
  {
   "cell_type": "markdown",
   "metadata": {},
   "source": [
    "---\n",
    "title: \"Intro to Convolution Neural Networks\"\n",
    "date: \"July 30, 2024\"\n",
    "categories: [cnns, deep-learning]\n",
    "format:\n",
    "  html:\n",
    "    toc: true\n",
    "    toc-depth: 3\n",
    "    # html-math-method: katex\n",
    "    # css: ../../styles.css\n",
    "    code-fold: true\n",
    "  ipynb: default\n",
    "  # markdown: default\n",
    "execute:\n",
    "  warning: false\n",
    "---"
   ]
  },
  {
   "cell_type": "markdown",
   "metadata": {},
   "source": [
    "Hello everyone, in this notebook we're going to understand the bare fundamentals of convolutional neural networks. We'll start by getting to know the convolutional operation itself and then proceed to make a very simple CNN model. \n",
    "\n",
    "The pre-requisites for this post are:\n",
    "\n",
    "- Basic understanding of python, numpy and torch.\n",
    "- Basic understanding of neural networks and feed forward networks.\n",
    "\n",
    "<!-- Welcome to the land of vision in deep learning. Gone are the days you need to look at 10 types of thresholding and 20 types of data pre-processing and apply a logistic classifier on the outputs of a cnn feature extractor. These days you can just load a pretrained model and watch a decaying training and validation loss and feel good about yourself.\n",
    "\n",
    "Turns out, this comfort doesnt last long. You eventually get around to understand what these models actually are because you need to! \n",
    "And when it comes to vision, you surely cannot leave out CNNs. Sure its all transformers nowadays but CNNs or convolutional neural networks were essentially the first deep learning models to make a significant impact in the field of computer vision and most would agree started the whole deep learning wave in the modern era. AlexNet, VGG, resnets would be considered the pioneer models in this field.\n",
    "\n",
    "Now you might ask: All this sounds interesting Deepam, but what the hell is a convolution? Let us understand convolutions and build a simple CNN model from scratch. \n",
    "\n",
    "The pre-requisites for this post are:\n",
    "\n",
    "- Basic understanding of python, numpy and torch.\n",
    "- Basic understanding of neural networks and feed forward networks.\n",
    " -->"
   ]
  },
  {
   "cell_type": "markdown",
   "metadata": {},
   "source": [
    "## Convolutions\n",
    "\n",
    "Convolution is a mathematical operation that combines two signals to produce a third signal, representing how one signal modifies the other. In general terms, convolution is used to apply a filter (or kernel) to a signal or data.\n",
    "\n",
    "For discrete signals, the convolution of two signals $f[n]$ and $g[n]$ is defined as:\n",
    "\n",
    "$$(f * g)[n] = \\sum_{m=-\\infty}^{\\infty} f[m] \\cdot g[n - m]$$\n",
    "\n",
    "Where:\n",
    "- $f[n]$ is the input signal,\n",
    "- $g[n]$ is the filter (or kernel),\n",
    "- $(f * g)[n]$ is the resulting convolved signal.\n",
    "\n",
    "This operation involves flipping the filter $g[n]$, shifting it across the input signal $f[n]$, multiplying the overlapping values, and summing the results to produce the output signal."
   ]
  },
  {
   "cell_type": "markdown",
   "metadata": {},
   "source": [
    "#### Steps in Convolution\n",
    "\n",
    "Convolution involves the following steps:\n",
    "\n",
    "1. **Prepare the Kernel**: Take the transpose(flip) of the kernel $(g)$ along the resolution dimensions ($H,W$).[see why](https://dsp.stackexchange.com/questions/5992/flipping-the-impulse-response-in-convolution/6355#6355)\n",
    "\n",
    "2. **Align and Slide**: Position the flipped kernel at the start of the input signal $(f)$. Then, systematically slide it across the entire length of $(f)$.\n",
    "\n",
    "3. **Multiply**: At each position, perform element-wise multiplication between the overlapping portions of the flipped kernel and the input signal.\n",
    "\n",
    "4. **Sum**: Add up all the products from step 3 to get a single value. This value represents the convolution result at the current position.\n",
    "\n",
    "5. **Record and Repeat**: Store the sum as an element in the output signal, then move the kernel to the next position and repeat steps 3-5 until the entire input signal has been covered.\n",
    "\n",
    "The resulting output signal represents how the kernel has \"filtered\" or modified the input signal, highlighting certain features or patterns based on the kernel's characteristics.\n",
    "\n",
    "This process can be extended to 2D (for images) or higher dimensions, where the kernel slides over the input in all dimensions."
   ]
  },
  {
   "cell_type": "markdown",
   "metadata": {},
   "source": [
    "For a 1d array this might look like this: "
   ]
  },
  {
   "cell_type": "code",
   "execution_count": 73,
   "metadata": {},
   "outputs": [
    {
     "name": "stdout",
     "output_type": "stream",
     "text": [
      "f: [ 1  2  3 -1 10  1]\n",
      "g: [ 1  0 -1  1]\n",
      "inverted_g, g`: [ 1 -1  0  1]\n",
      "\n",
      "Steps in convolution, slide g` over f in a loop:\n",
      "'* is dot product' \n",
      "\n",
      "result = f*g = [_ _ _ _]\n",
      "\n",
      "step 1. \n",
      "[ 1  2  3 -1] * [ 1 -1  0  1] = -2\n",
      "result[1]: -2\n",
      "\n",
      "step 2. \n",
      "[ 2  3 -1 10] * [ 1 -1  0  1] = 9\n",
      "result[2]: 9\n",
      "\n",
      "step 3. \n",
      "[ 3 -1 10  1] * [ 1 -1  0  1] = 5\n",
      "result[3]: 5\n",
      "\n",
      "result: [-2, 9, 5]\n"
     ]
    }
   ],
   "source": [
    "\n",
    "import numpy as np \n",
    "\n",
    "f = np.array([1,2,3,-1, 10,1])\n",
    "g = np.array([1,0,-1,1])\n",
    "inverted_g = g[::-1]\n",
    "\n",
    "print(f\"f: {f}\")\n",
    "print(f\"g: {g}\")\n",
    "print(f\"inverted_g, g`: {inverted_g}\")\n",
    "\n",
    "window_size = g.shape[0]\n",
    "result = []\n",
    "\n",
    "print(\"\\nSteps in convolution, slide g` over f in a loop:\")\n",
    "print(\"'* is dot product' \\n\")\n",
    "print(\"result = f*g = [_ _ _ _]\\n\")\n",
    "for idx, i in enumerate(range(len(f)-window_size+1)):\n",
    "    slice_of_f = f[i:i+window_size]\n",
    "    print(f\"step {idx+1}. \\n{slice_of_f} * {inverted_g} = {slice_of_f.dot(inverted_g)}\")\n",
    "    # print(f\"step {idx+1}.2 sum({slice_of_f * inverted_g}) = {np.sum(slice_of_f * inverted_g)}\")\n",
    "    result.append(np.sum(slice_of_f * inverted_g))\n",
    "    print(f\"result[{i+1}]: {result[i]}\\n\")\n",
    "\n",
    "print(f\"result: {result}\")"
   ]
  },
  {
   "cell_type": "markdown",
   "metadata": {},
   "source": [
    "Consider `len(f)=M` & `len(g)=N`. \n",
    "We also have a few types of convolutions, based on how much padding is added to the input signal: \n",
    "\n",
    "1. **Valid Convolution**: \n",
    "    - The output is smaller than the input. No padding is applied.\n",
    "    - Mode 'valid' returns output of length\n",
    "      ``max(M, N) - min(M, N) + 1``.\n",
    "    "
   ]
  },
  {
   "cell_type": "markdown",
   "metadata": {},
   "source": [
    "\n",
    "2. **Same Convolution**: \n",
    "    - Padding is applied to keep the output size the same as the input. \n",
    "    - Mode 'same' returns output of length ``max(M, N)``. \n"
   ]
  },
  {
   "cell_type": "code",
   "execution_count": 88,
   "metadata": {},
   "outputs": [
    {
     "name": "stdout",
     "output_type": "stream",
     "text": [
      "np.convolve(f,g, mode='same') -> [  2   2  -2   9   5 -11]\n"
     ]
    }
   ],
   "source": [
    "print(f\"np.convolve(f,g, mode='same') -> {np.convolve(f,g, mode='same')}\")"
   ]
  },
  {
   "cell_type": "markdown",
   "metadata": {},
   "source": [
    "\n",
    "3. **Full Convolution**: \n",
    "    - Maximum padding is applied. \n",
    "    - This returns the convolution at each point of overlap, with an output shape of (N+M-1,)."
   ]
  },
  {
   "cell_type": "code",
   "execution_count": 89,
   "metadata": {},
   "outputs": [
    {
     "name": "stdout",
     "output_type": "stream",
     "text": [
      "full f*g \n",
      "-> [ 0  0  0  1  2  3 -1 10  1  0  0  0] * [ 1 -1  0  1]\n",
      "-> [  1   2   2  -2   9   5 -11   9   1]\n"
     ]
    }
   ],
   "source": [
    "print(f\"full f*g \\n-> {np.pad(f,len(g)-1)} * {g[::-1]}\")\n",
    "print(f\"-> {np.convolve(f,g, mode='full')}\")"
   ]
  },
  {
   "cell_type": "markdown",
   "metadata": {},
   "source": [
    "That wasnt so hard was it? Lets look at an example for 2d arrays.  \n",
    "\n",
    "Lets take 2 matrices $f$ & $g$ of shapes (4,4) and (3,3). Since $g$ is a square kernel with side=3, we say it has size 3.\n",
    "First we need to flip the $g$ both horizontally and vertically. Then, for each $g$ sized block in $f$, we do element-wise multiplication then summation.\n",
    "\n",
    "\n",
    "Lets see how this works."
   ]
  },
  {
   "cell_type": "markdown",
   "metadata": {},
   "source": [
    "![2d conv](https://miro.medium.com/v2/resize:fit:786/format:webp/1*hOI0jW3CcS_yuxcmJIYjKw.gif){width=300 style=\"display: block; margin: auto;\"}"
   ]
  },
  {
   "cell_type": "code",
   "execution_count": 90,
   "metadata": {},
   "outputs": [
    {
     "name": "stdout",
     "output_type": "stream",
     "text": [
      "(f): \n",
      "[[0.56832851 0.1169398  0.62616176 0.94949466]\n",
      " [0.06633587 0.83629314 0.79893411 0.07711767]\n",
      " [0.11524299 0.48151466 0.3024186  0.34043628]\n",
      " [0.76204227 0.80463651 0.4008499  0.4356766 ]]\n",
      "\n",
      "(g): \n",
      "[[ 1  0 -1]\n",
      " [ 2  0 -2]\n",
      " [ 3  0 -3]]\n",
      "\n",
      "(g`): \n",
      "[[-3  0  3]\n",
      " [-2  0  2]\n",
      " [-1  0  1]]\n",
      "\n"
     ]
    }
   ],
   "source": [
    "#| code-fold: true\n",
    "f = np.random.rand(4,4)\n",
    "g = np.array([[1,0,-1],[2,0,-2],[3,0,-3]])\n",
    "inverted_g = g[::-1, ::-1]\n",
    "print(f\"(f): \\n{f}\\n\")\n",
    "print(f\"(g): \\n{g}\\n\")\n",
    "print(f\"(g`): \\n{inverted_g}\\n\")"
   ]
  },
  {
   "cell_type": "code",
   "execution_count": 91,
   "metadata": {},
   "outputs": [
    {
     "name": "stdout",
     "output_type": "stream",
     "text": [
      "Convolution steps:\n",
      "step 1\n",
      "-> f[0:3, 0:3] * g`: \n",
      "[[-1.70498553  0.          1.87848528]\n",
      " [-0.13267174  0.          1.59786822]\n",
      " [-0.11524299  0.          0.3024186 ]]\n",
      "result[0,0] -> 1.8259\n",
      "\n",
      "step 2\n",
      "-> f[1:4, 0:3] * g`: \n",
      "[[-0.1990076   0.          2.39680234]\n",
      " [-0.23048599  0.          0.60483719]\n",
      " [-0.76204227  0.          0.4008499 ]]\n",
      "result[1,0] -> 2.2110\n",
      "\n",
      "... and so on.\n",
      "\n",
      "final result: \n",
      "[[ 1.82587185  0.83823527]\n",
      " [ 2.21095358 -2.92864308]]\n",
      "\n"
     ]
    }
   ],
   "source": [
    "#| code-fold: true\n",
    "f_rows, f_columns = f.shape \n",
    "g_rows, g_columns = g.shape\n",
    "\n",
    "result = np.zeros((f_rows-g_rows+1, f_columns-g_columns+1))\n",
    "print(f\"Convolution steps:\")\n",
    "for i in range(f_rows-g_rows+1):\n",
    "    for j in range(f_columns-g_columns+1):\n",
    "        item = f[i:i+g_rows, j:j+g_columns] * inverted_g\n",
    "        if i<3 and j==0:\n",
    "            print(f\"step {i+j+1}\\n-> f[{i}:{i+g_rows}, {j}:{j+g_columns}] * g`: \\n{item}\")\n",
    "            print(f\"result[{i},{j}] -> {np.sum(item):.4f}\\n\")\n",
    "        result[i,j] = np.sum(item)\n",
    "print(\"... and so on.\\n\")\n",
    "print(f\"final result: \\n{result}\\n\")"
   ]
  },
  {
   "cell_type": "markdown",
   "metadata": {},
   "source": [
    "**Padding**: Padding is now applied on both the height and width dimensions. \n",
    "\n",
    "**Stride**: You can see that the kernel shifts by one pixel everytime. This is the stride of this conv operation. It is generally applied symmetrically across $H$ & $W$. You can see how doubling the stride would reduce output size by half. In general, larger stride → Smaller output (since we're skipping pixels)"
   ]
  },
  {
   "cell_type": "markdown",
   "metadata": {},
   "source": [
    "![1](https://lilianweng.github.io/posts/2017-12-15-object-recognition-part-2/numerical_no_padding_no_strides.gif){width=400 style=\"display: block; margin: auto;\"}\n",
    "\n",
    "![2](https://lilianweng.github.io/posts/2017-12-15-object-recognition-part-2/numerical_padding_strides.gif){width=400 style=\"display: block; margin: auto;\"}\n",
    "\n",
    "\n",
    "*Two examples of 2D convolution operation: \n",
    "    (1) no padding and 1x1 strides.\n",
    "    (2) padding = 1 and 2x2 strides. (Image source: deeplearning.net)*"
   ]
  },
  {
   "cell_type": "markdown",
   "metadata": {},
   "source": [
    "## Neural networks\n",
    "\n",
    "Now that we clearly understand what a convolution is, lets get back to neural networks. Suppose you wanted to classify images before CNNs were developed. How would you do it? In most cases, you would use some pre-determined filters to extract features from the images and then use a fully connected network to classify the images. Those features could be:\n",
    "\n",
    "1. Edge filters: Used to detect edges in images. Common edge detection filters include:\n",
    "   - Sobel filter: Emphasizes horizontal or vertical edges\n",
    "   - Prewitt filter: Similar to Sobel, but with different coefficients\n",
    "   - Laplacian filter: Detects edges in all directions\n",
    "\n",
    "2. Texture filters: Used to capture texture information:\n",
    "   - Gabor filters: Detect specific frequencies and orientations\n",
    "   - Laws' texture energy measures: A set of filters for texture analysis\n",
    "\n",
    "3. Color histograms: Represent the distribution of colors in an image\n",
    "\n",
    "4. SIFT (Scale-Invariant Feature Transform): Detects and describes local features in images\n",
    "\n",
    "5. HOG (Histogram of Oriented Gradients): Counts occurrences of gradient orientations in localized portions of an image\n",
    "\n",
    "6. Haar-like features: Used in face detection, these features look at rectangular regions and sum up pixel intensities\n",
    "\n",
    "After applying these filters, you would typically:\n",
    "\n",
    "1. Extract the resulting features\n",
    "2. Possibly apply dimensionality reduction techniques like PCA\n",
    "3. Feed the processed features into a classifier such as SVM, Random Forest, or a simple neural network\n",
    "\n",
    "This approach, while effective for certain tasks, had limitations:\n",
    "- Handcrafted features might not capture all relevant information\n",
    "- The process was often computationally expensive\n",
    "- Feature engineering required domain expertise\n",
    "\n",
    "CNNs addressed these issues by learning the filters automatically during training, leading to more effective and adaptable vision models. Let us look at all the important components of a CNN in the next section."
   ]
  },
  {
   "cell_type": "markdown",
   "metadata": {},
   "source": [
    "## Convolutional layer\n",
    "\n",
    "\n",
    "We now understand why handcrafted fatures are hard to come up with. Lets back up for a second and remember our old friends feed forward (FF) networks. What is the problem with using feed forward networks to process images? Specifically why dont we just give the FF network the raw pixels and let it learn?\n",
    "\n",
    "As it turns out, there are quite a few things:\n",
    "\n",
    "Suppose we have a (224,224,3) sized input-image. Thats a total of 224\\*224\\*3 = 150,528 data-points. suppose i want to have a output vector of length 1000 (classifier with 1k classes), this gives me a total of roughly 150k * 1k = 150 million parameters, where we have 1k parameters for each input pixel! That is a LOTT of parameters.\n",
    "\n",
    "So how can we use the inherent nature of images and image-data to construct better models? We also learned convolutions in the previous section. Maybe that gives you some hint?\n",
    "\n",
    "Pixel data is inherently very locally dependent. This is very different from tabular data, for example, a housing price dataset where each feature is largely independent of each other. By design feedforward networks do not allow for this kind of information to be shared between different data points in the network. This is beacause for each linear layer, a output shaped weight matrix is learned for each point in the input. This seems very inefficient. \n",
    "\n",
    "What if instead of treating each individual pixel as a different input, we treat a patch of pixels as a single input? This means we get one output item for a patch of pixels, and our weights can *\"slide\"* across an image to produce our output. And if that sounds like something we were doing earlier, you are right!\n",
    "\n",
    "Enter convolution. The weights will basically be filters we learn. And since the same filter is applied to all the patches in a conv operation, there are a lot less pararmeters to learn.\n",
    "\n",
    "We can learn a lot of filters that will interact with our image and get us some useful features which can then be fed to a FF network. \n",
    "\n",
    "A filter always has the same number of dimensions as the input. Images are 3 dimensional tensors $(H_{in}, W_{in}, C_{in})$. The kernel will then be a tensor of size $k,k, C_{in}$. A single step in their convolution that produces 1 output is the dot product between the kernel and a ($k,k$) window of the input image. Hence the output is a 2d matrix.\n",
    "\n",
    "But we learn a lot of these filters, say $C_{out}$. So we get $C_{out}$ such 2d, matrices. So if we consider \n",
    "\n",
    "- input block shape -> $(H_{in}, W_{in}, C_{in})$\n",
    "- filter shape -> $k, k, C_{in}$\n",
    "- number of filters -> $C_{out}$ \n",
    "- The outputs will be a 3d tensor of shape $(H_{out}, W_{out}, C_{out})$, where $(H_{out}, W_{out}$ are determined by input resolution and the padding & stride of the convoution operation.\n",
    "\n",
    "\n",
    "![](https://qph.cf2.quoracdn.net/main-qimg-b662a8fc3be57f76c708c171fcf29960){width=300 style=\"display: block; margin: auto;\"}\n",
    "\n",
    "<!-- But images are 3 dimensionsal you say! Sure they are -->\n",
    "<!-- This is exactly what a convolutional layer does. It consists of a set of learnable filters that slide over the input image and compute the output. If the input image is of size $(H_{in}, W_{in}, C_{in})$, and we have $C_{out}$ filters of size $(k,k,C_{in})$, the output of the convolutional layer is of size $(H_{out}, W_{out}, C_{out})$. \n",
    "Each filter slides over the entire input volume and produces a 2d matrix of size $(H_{out}, W_{out})$. And this is done for all the filters in the layer. So the output of the convolutional layer is a 3d tensor of size $(H_{out}, W_{out}, C_{out})$. -->\n",
    "\n",
    "<!-- Note that the filters will always have depth equal to the input volume's depth. -->\n",
    "\n",
    "\n",
    "The number of parameters learned here would be $(k*k*C_{in}*C_{out})$. So for a conv layer with 64 filters of size (3x3) for an input image of size (224x224x3), we would have 1792 parameters, which is orders of magnitutde smaller already. Much more efficient isn't it?\n",
    "\n",
    "<!-- \n",
    "1. Feed forward networks do not share information between different data points in the network. For example if X = [0,1,2,3] is a vector of input to the network, all the interactions between weights happen independently for each data point in one sample of data.\n",
    "This works fine for tabular features of some data, because they actually are not dependent on their spatial postion wrt each other. The model will learn the same if you shuffle all columns of a dataset. <br><br>But images pixels are a different type of data. They are inherently very locally dependent. If you look at a single pixel, it is very likely to be highly correlated with its neighboring pixels. Hence our network should process atleast patches of images at a time. \n",
    "\n",
    "2. Earlier when classical image processing methods were being used, many a times hand-made \"filters\" were used to extract features from images. In CNNs, we learn these filters! and we learn a lot of them. So think of each layer in this CNN as having a lot of these filters which are learned during network. We'll soon visualize what concepts they learn.\n",
    "\n",
    "3. Another concept that helps is parameter sharing. We could in thoery have different set of filters for different patches in the image, but this would shoot up the parameter count of our model. So in a single layer, we use a single set of filters for all patches in the image. -->\n",
    "\n",
    "<!-- \n",
    "```\n",
    "# import torch.nn as nn\n",
    "\n",
    "# def get_total_params(model):\n",
    "#     return sum(p.numel() for p in model.parameters())\n",
    "\n",
    "# model = nn.Linear(150528, 1000)\n",
    "# print(f\"Total params in a linear layer of shape (150528, 1000): {get_total_params(model)}\")\n",
    "\n",
    "# model = nn.Conv2d(3, 64, kernel_size=3, stride=1, padding=1)\n",
    "# print(f\"Total params in a conv layer with kernel size (3,3) and 64 filters: {get_total_params(model)}\")\n",
    "``` -->"
   ]
  },
  {
   "cell_type": "markdown",
   "metadata": {},
   "source": [
    "Let us visualize the shapes of the input and output of a convolutional layer. (ignoring batch dimension for simplicity)\n",
    "\n",
    "![convolution in CNNs](https://miro.medium.com/v2/resize:fit:1400/1*ubmJTEy3edn5QYm5hNPmVg@2x.gif){width=400 style=\"display: block; margin: auto;\"}\n",
    "\n",
    "Let's break down the convolution operation. Key Parameters are:\n",
    "\n",
    "**Inputs** are of shape $(H_{in}, W_{in}, C_{in})$\n",
    "\n",
    "**Conv layer parameters**: \n",
    "\n",
    "- Kernel size: $k$\n",
    "- Number of output channels: $C_{out}$\n",
    "- Stride ($S$): Doubling the stride will reduce output size by half.\n",
    "- Padding ($P$): Extra zeros added around the input image edges. Image can be padded with other values too. padding is done on both sides of the height and width dimensions.\n",
    "- Dilation ($D$): a parameter that controls the stride of elements in the window. default=1.\n",
    "\n",
    "**Outputs** are of shape $(H_{out}, W_{out}, C_{out})$, where \n",
    "\n",
    "- $H_{out} = (H_{in} - k + 2P) / S + 1$\n",
    "- $W_{out} = (W_{in} - k + 2P) / S + 1$\n",
    "\n",
    "\n",
    "For a visual understanding of how all these parameters interact, check out this [convolution visualizer](https://ezyang.github.io/convolution-visualizer/)."
   ]
  },
  {
   "cell_type": "markdown",
   "metadata": {},
   "source": [
    "<!-- > Readers would likely also be interested in knowing how the convolution operation is implemented as a matrix multiplication in gpus. We have here the concepts of img2col and col2img where -->"
   ]
  },
  {
   "cell_type": "markdown",
   "metadata": {},
   "source": [
    "<!-- > Readers would likely also be interested in knowing how the convolution operation is implemented as a matrix multiplication in GPUs. We have here the concepts of img2col and col2img where\n",
    "\n",
    "The `img2col` operation transforms the input image into a 2D matrix where each row corresponds to a sliding window of the image. This allows the convolution operation to be expressed as a matrix multiplication, which is highly optimized on GPUs. \n",
    "\n",
    "The transformation can be represented as:\n",
    "$$\n",
    "\\text{img2col}(I) = \\begin{bmatrix}\n",
    "I_{1} & I_{2} & \\ldots & I_{n}\n",
    "\\end{bmatrix}\n",
    "$$\n",
    "where $I_{k}$ represents the flattened sliding window of the image.\n",
    "\n",
    "Conversely, `col2img` takes the output of the matrix multiplication and reconstructs it back into the original image format. This can be represented as:\n",
    "$$\n",
    "\\text{col2img}(C) = I\n",
    "$$\n",
    "where $C$ is the output matrix from the convolution operation.\n",
    "\n",
    "This approach leverages the efficiency of matrix operations, enabling faster computations for convolutional layers in deep learning models.\n",
    "\n",
    "By using these techniques, frameworks like TensorFlow and PyTorch can perform convolutions much more efficiently, making it feasible to train large models on high-resolution images. -->"
   ]
  },
  {
   "cell_type": "markdown",
   "metadata": {},
   "source": [
    "#### img2col and col2img\n",
    "\n",
    "Readers would likely also be interested in knowing how the convolution operation is implemented as a matrix multiplication in GPUs. We have here the concepts of **img2col** and **col2img**.\n",
    "\n",
    "1. **img2col Transformation**\n",
    "\n",
    "<!-- Consider an input image (or feature map) $\\mathbf{I}$ of size $H \\times W$ with $C$ channels, and a convolutional kernel $\\mathbf{K}$ of size $k_H \\times k_W$ with $C$ input channels and $M$ output channels. -->\n",
    "\n",
    "**img2col Formula**:\n",
    "The img2col transformation converts the input image into a matrix $\\mathbf{X}$ where each column corresponds to a flattened patch of the image that the kernel would convolve over:\n",
    "\n",
    "$$\\mathbf{X} \\in \\mathbb{R}^{(k_H \\cdot k_W \\cdot C) \\times (H' \\cdot W')}$$\n",
    "\n",
    "Here:\n",
    "- $H' = \\frac{H - k_H}{s} + 1$ and $W' = \\frac{W - k_W}{s} + 1$ are the height and width of the output feature map, where $s$ is the stride.\n",
    "- Each column of $\\mathbf{X}$ represents the flattened $k_H \\times k_W \\times C$ patch from the input image.\n",
    "\n",
    "2. **Kernel Reshaping**\n",
    "\n",
    "The convolutional kernel $\\mathbf{K}$ is reshaped into a matrix $\\mathbf{W}$ to facilitate matrix multiplication:\n",
    "\n",
    "$$\\mathbf{W} \\in \\mathbb{R}^{M \\times (k_H \\cdot k_W \\cdot C)}$$\n",
    "\n",
    "Here:\n",
    "- $M$ is the number of output channels.\n",
    "- Each row of $\\mathbf{W}$ corresponds to one flattened convolutional filter.\n",
    "\n",
    "3. **Matrix Multiplication**\n",
    "\n",
    "The convolution operation can now be performed as a matrix multiplication:\n",
    "\n",
    "$$\\mathbf{Y} = \\mathbf{W} \\cdot \\mathbf{X}$$\n",
    "\n",
    "Where:\n",
    "- $\\mathbf{Y} \\in \\mathbb{R}^{M \\times (H' \\cdot W')}$ is the output matrix.\n",
    "\n",
    "4. **col2img Transformation**\n",
    "\n",
    "After the matrix multiplication, the output matrix $\\mathbf{Y}$ is reshaped back into the spatial dimensions of the output feature map using the col2img operation:\n",
    "\n",
    "$$\\mathbf{O} \\in \\mathbb{R}^{H' \\times W' \\times M}$$\n",
    "\n",
    "This reshaping restores the 2D spatial structure of the output feature map.\n",
    "\n",
    "These transformations enable the convolution operation to leverage efficient matrix multiplication on GPUs, significantly speeding up the process."
   ]
  },
  {
   "cell_type": "markdown",
   "metadata": {},
   "source": [
    "## Other layers\n",
    "\n",
    "Conolutional layers are usually followed by activation functions like ReLU and then a pooling layer. \n",
    "\n",
    "### Pooling layer\n",
    "Pooling layer? Yes, pooling layer. \n",
    "Pooling layer is a means to perform downsampling of an image. \n",
    "Given a volume of input, instead of using filters, we can use non-parameterized operations like min/max/avg to downsample the data and get a smaller volume. It reduces the H and W dimensions of the input volume, keeping the depth the same. But why would we do something like that? Two main reasons:\n",
    "\n",
    "1. Reduce the number of parameters: By reducing the number of parameters, the model can learn more general features.\n",
    "2. Reduce the amount of overfitting: Since pooling leads to some information loss, it also acts as a good regularizer.\n",
    "\n",
    "The entire operation is the same as the convolutional layer except instead of convolving $f$ with a filter $g$ of size $(k,k, C_{in})$, we take the max/mean of $f$ for each patch of size $(k,k)$. This is done separately for each input channel.\n",
    "\n",
    "Let's look at an example of max pooling, which is the most common type of pooling:"
   ]
  },
  {
   "cell_type": "code",
   "execution_count": 93,
   "metadata": {},
   "outputs": [
    {
     "name": "stdout",
     "output_type": "stream",
     "text": [
      "Input:\n",
      "[[1 3 2 1]\n",
      " [5 6 4 2]\n",
      " [7 8 9 4]\n",
      " [1 2 3 5]]\n",
      "\n",
      "After 2x2 Max Pooling:\n",
      "Result: \n",
      "[[ max(f[0:2, 0:2]) max(f[0:2, 2:4])]\n",
      " [ max(f[2:4, 0:2]) max(f[2:4, 2:4])]]\n",
      "\n",
      "[[6. 4.]\n",
      " [8. 9.]]\n"
     ]
    }
   ],
   "source": [
    "# Input feature map\n",
    "input = np.array([\n",
    "[1, 3, 2, 1],\n",
    "[5, 6, 4, 2],\n",
    "[7, 8, 9, 4],\n",
    "[1, 2, 3, 5]\n",
    "])\n",
    "\n",
    "# Max pooling with 2x2 filter and stride 2\n",
    "def max_pool(input, filter_size, stride):\n",
    "    height, width = input.shape\n",
    "    output_height = (height - filter_size) // stride + 1\n",
    "    output_width = (width - filter_size) // stride + 1\n",
    "    output = np.zeros((output_height, output_width))\n",
    "    \n",
    "    for i in range(output_height):\n",
    "        for j in range(output_width):\n",
    "            start_i = i * stride\n",
    "            start_j = j * stride\n",
    "            window = input[start_i:start_i+filter_size, start_j:start_j+filter_size]\n",
    "            output[i, j] = np.max(window)\n",
    "    \n",
    "    return output\n",
    "\n",
    "result = max_pool(input, 2, 2)\n",
    "print(\"Input:\")\n",
    "print(input)\n",
    "print(\"\\nAfter 2x2 Max Pooling:\")\n",
    "print(f\"\"\"Result: \n",
    "[[ max(f[0:2, 0:2]) max(f[0:2, 2:4])]\n",
    " [ max(f[2:4, 0:2]) max(f[2:4, 2:4])]]\n",
    "\"\"\")\n",
    "print(result)"
   ]
  },
  {
   "cell_type": "markdown",
   "metadata": {},
   "source": [
    "As you can see, max pooling takes the maximum value in each 2x2 region, effectively reducing the spatial dimensions of the feature map while retaining the most prominent features. Generally a stride of 2 is used, which means that pooling results in half the resolution as the input (h,w).\n",
    "\n",
    "\n",
    "### Activation layer\n",
    "\n",
    "Activations used are sigmoid, ReLu, and tanh. Since VGGs and deeper networks use ReLu, it is common to see ReLu used in CNNs. This is because ReLu partially solves the vanishing gradient problem, which is a common problem in deep networks. Read more about this [here](https://stats.stackexchange.com/a/240491). \n",
    "\n",
    "But what the ReLU layer does is very simple, it applies max(0, x) to each element in the input. Effectively, it zeros out negative values, and leaves positive values unchanged.\n"
   ]
  },
  {
   "cell_type": "markdown",
   "metadata": {},
   "source": [
    "### Other jargon\n",
    "\n",
    "Before we dive into training a model, let's review some important jargon related to CNNs:\n",
    "\n",
    "- **activation maps**: the output when a `\\[Conv->Relu\\]` filter interacts with entire image.\n",
    "- **feature maps**: the output of a convolutional layer. (before the activation)\n",
    "- **depth**: refers to the number of channels.\n",
    "- **receptive field**: the area of the input that a given filter is able to see at a time is called the receptive field. If a filter is of size ($k$) its receptive field is of size ($k*k$)"
   ]
  },
  {
   "cell_type": "markdown",
   "metadata": {},
   "source": [
    "<!-- ## CNNs from scratch!\n",
    " \n",
    "Let us implement a CNN from scratch. \n",
    "\n",
    "Starting with the Convolutional layer.\n",
    "\n",
    "```python\n",
    "import torch \n",
    "\n",
    "class ConvLayer:\n",
    "    def __init__(self, in_channels, out_channels, kernel_size, stride, padding):\n",
    "        self.in_channels = in_channels\n",
    "        self.out_channels = out_channels\n",
    "        self.kernel_size = kernel_size\n",
    "        self.stride = stride\n",
    "        self.padding = padding\n",
    "        self.weights = torch.randn(out_channels, in_channels, kernel_size, kernel_size)\n",
    "        self.biases = torch.zeros(out_channels)\n",
    "\n",
    "    def forward(self, x):\n",
    "        if x.ndim != 4:\n",
    "            raise ValueError(\"Input tensor must have 4 dimensions: (batch_size, in_channels, height, width)\")\n",
    "        if x.shape[1] != self.in_channels:\n",
    "            raise ValueError(f\"Expected input shape to have {self.in_channels} channels, but got {x.shape[1]}\")\n",
    "'''\n",
    "# broadcast weights across batch, and then perform conv operation\n",
    "# conv operation\n",
    "    # apply padding\n",
    "    start with a patch  of k sized kernel and do element wise operation in 2 nested loops (across H and W)\n",
    "    \n",
    "    B*C*H*W * \n",
    "'''\n",
    "``` -->"
   ]
  },
  {
   "cell_type": "markdown",
   "metadata": {},
   "source": [
    "Now we have all the basic components we need for a tiny cnn model. "
   ]
  },
  {
   "cell_type": "markdown",
   "metadata": {},
   "source": [
    "## A Simple CNN architecture\n",
    "\n",
    "Lets assume a simple task of image classification. The most common form of a CNN architecture stacks a few CONV-RELU layers, follows them with POOL layers, and repeats this pattern until the image volume has reduced to a small size. As the number of the layers increase, the resolution becomes smaller and smaller and depth of the activation maps increases. \n",
    "\n",
    "At some point, it is common to transition to fully-connected(FC) layers. \n",
    "The final activation maps of the conv layers is pooled and flattened to a 2d matrix, ie $(B,C,H,W)->(B,C*H*W)$. The result then goes to the FC layers.\n",
    "The last fully-connected layer gives the output, such as the class scores. In other words, the most common ConvNet architectures follow the pattern:\n",
    "\n",
    "`INPUT -> [[CONV -> RELU]*N -> POOL?]*M ->flatten-> [FC -> RELU]*K -> FC`\n",
    "\n",
    "Note that since architectures like [Resnet](https://arxiv.org/pdf/1512.03385) and [Inception](https://arxiv.org/pdf/1409.4842) emerged, this is not the case, and the CNNs feature more intricate and different connectivity structures."
   ]
  },
  {
   "cell_type": "markdown",
   "metadata": {},
   "source": [
    "### CNN characteristics\n",
    "\n",
    "While we are here, let us also take note of some characteristics of CNNs:\n",
    "\n",
    "* **Sparse connectivity**: CNNs focus on local patterns in data, particularly useful for spatial data like images. A single patch in feature map is connected to only a small patch of image (in MLPs there is dense/full connection).\n",
    "* **Parameter sharing**: the same kernel/filter slides across the image. ie different neurons in each activation map is calculated using the same filter. In MLPs each neuron in the output space is calculated using different weight values.  this makes it efficient for computation.\n",
    "* **Spatial hierarchy**: CNNs build a hierarchy of increasingly abstract features. Lower layers detect simple features (e.g., edges), while deeper layers combine these to detect more complex patterns.\n",
    "* **Translation invariance**: CNNs can recognize patterns regardless of their position in the input. This is because we are using filters that slide over patches of data, so information is processed in the same way for different patches of data This is crucial for tasks like object recognition in images.\n",
    "\n",
    "Have a look at [this](https://arxiv.org/pdf/1311.2901) wonderful paper that dives deep into visualizing and understanding Cnns.\n",
    "\n",
    "![visualizing activation maps in cnns. From the paper 'Visualizing and Understanding Convolutional Networks'](visualizing-activation-maps-cnns.png){#fig-cnn-activation-maps height=70%, width=90%}\n",
    "\n"
   ]
  },
  {
   "cell_type": "markdown",
   "metadata": {},
   "source": [
    "Now lets build a CNN model step by step."
   ]
  },
  {
   "cell_type": "markdown",
   "metadata": {},
   "source": [
    "\n",
    "#### ConvReLU Layer\n",
    "\n",
    "The first block will be `CONV->RELU`. \n",
    "In torch,"
   ]
  },
  {
   "cell_type": "code",
   "execution_count": 100,
   "metadata": {},
   "outputs": [],
   "source": [
    "#| code-fold: false\n",
    "import torch \n",
    "from torch import nn\n",
    "\n",
    "class ConvReLU(nn.Module):\n",
    "    \"\"\"\n",
    "    A single conv layer followed by batchnorm and activation.\n",
    "    \"\"\"\n",
    "    def __init__(self, in_channels, out_channels, kernel_size, activation=nn.ReLU(), stride=1, padding=1):\n",
    "        super().__init__()\n",
    "\n",
    "        self.conv = nn.Conv2d(in_channels, out_channels, kernel_size=kernel_size, stride=stride, padding=padding)\n",
    "        self.activation = activation\n",
    "        \n",
    "    def forward(self, x):\n",
    "        if self.activation is not None:\n",
    "            x = self.activation(self.conv(x))\n",
    "        else:\n",
    "            x = self.conv(x)\n",
    "\n",
    "        return x\n"
   ]
  },
  {
   "cell_type": "markdown",
   "metadata": {},
   "source": [
    "Lets create the conv1 layer and visualize the input and output volumes. The input is a rgb image of size `224x224x3`. We'll adjust the padding and stride such that the resolution remains the same."
   ]
  },
  {
   "cell_type": "code",
   "execution_count": 107,
   "metadata": {},
   "outputs": [
    {
     "name": "stdout",
     "output_type": "stream",
     "text": [
      "input volume = torch.Size([3, 224, 224])\n",
      "output volume after conv_layer_1 = torch.Size([64, 224, 224])\n",
      "output volume after conv_layer_2 = torch.Size([128, 224, 224])\n"
     ]
    }
   ],
   "source": [
    "\n",
    "input_img = torch.rand(224, 224, 3)   \n",
    " \n",
    "# input images must have shape (C,H,W) this is usually managed by torch's to_tensor transform\n",
    "input_img = torch.permute(input_img, (2, 0, 1))      \n",
    "\n",
    "conv_layer_1 = ConvReLU(3, 64, kernel_size=3, stride=1, padding=1) \n",
    "conv_layer_2 = ConvReLU(64, 128, kernel_size=3, stride=1, padding=1)\n",
    "\n",
    "print(\"input volume = {}\".format(input_img.shape))\n",
    "\n",
    "print(\"output volume after conv_layer_1 (num_channels 3->64) = {}\".format(conv_layer_1(input_img).shape))\n",
    "print(\"output volume after conv_layer_2 (num_channels 64->128)= {}\".format(conv_layer_2(conv_layer_1(input_img)).shape))\n",
    "# print(\"output volume after max_pool = {}\".format(max_pool(conv_layer_2(conv_layer_1(input_img))).shape))"
   ]
  },
  {
   "cell_type": "markdown",
   "metadata": {},
   "source": [
    "#### Block of ConvReLU layers\n",
    "\n",
    "<!-- Now to make a block of VGG, we combine multiple such layers together. If you see the @fig-vgg, each block's has a red layer in the beginning. The red layer is a max_pool layer with stride=2 and kernel_size=2. This results in the $H,W$ being halved. Then the subsequent conv_layers preserve the $H,W$ and double the channels. Lets look at a block below: -->\n",
    "Now lets make a bigger block one that does this operation:\n",
    "\n",
    "`Block(n) = [conv_layer_1->[conv_layer_i]*(n-1)]`.\n",
    "\n",
    "The feature extractor inn our CNN is going to look like this:  \n",
    "\n",
    "[`block -> Max_pool -> block -> Max_pool -> block -> ...`]\n",
    "\n",
    "Each block takes as input $C_{in}$ and $C_{out}$ and the number of layers(>1). The first layer will always change $C_{in}$ to $C_{out}$ and the rest of the layers keep all the dimensions intact. Lets create a block class:\n"
   ]
  },
  {
   "cell_type": "code",
   "execution_count": 141,
   "metadata": {},
   "outputs": [],
   "source": [
    "#| code-fold: false\n",
    "class Block(nn.Module):\n",
    "\n",
    "    def __init__(self, input_channels, out_channels, num_layers, activation=nn.ReLU()):\n",
    "        super().__init__()\n",
    "        \n",
    "        self.out_channels = input_channels*2 if out_channels is None else out_channels\n",
    "        \n",
    "        conv_0 = ConvReLU(input_channels, self.out_channels, kernel_size=3, stride=1, padding=1)\n",
    "        layers = [conv_0, *[ConvReLU(self.out_channels, self.out_channels, kernel_size=3, stride=1, padding=1) for _ in range(num_layers-1)]]\n",
    "\n",
    "        self.layers = nn.Sequential(*layers)\n",
    "\n",
    "    def forward(self, x):\n",
    "        return self.layers(x)"
   ]
  },
  {
   "cell_type": "markdown",
   "metadata": {},
   "source": [
    "Lets analyse a sequence of `[BLOCK->POOL->BLOCK]`."
   ]
  },
  {
   "cell_type": "code",
   "execution_count": 179,
   "metadata": {},
   "outputs": [
    {
     "name": "stdout",
     "output_type": "stream",
     "text": [
      "input_img volume = torch.Size([3, 224, 224])\n",
      "\n",
      "output volume after conv1_block (Channels: 3->64) = torch.Size([64, 224, 224])\n",
      "\n",
      "output volume after maxpool (halves H,W; preserves C) = torch.Size([64, 112, 112])\n",
      "\n",
      "output volume after conv2_block (Channels: 64->128) = torch.Size([128, 112, 112])\n"
     ]
    }
   ],
   "source": [
    "\n",
    "max_pool = nn.MaxPool2d(kernel_size=2, stride=2)\n",
    "\n",
    "conv1_block = Block(input_channels=3, out_channels=64, num_layers=2)\n",
    "print(f\"input_img volume = {input_img.shape}\\n\")\n",
    "x = conv1_block(input_img)\n",
    "\n",
    "print(\"output volume after conv1_block (Channels: 3->64) = {}\".format(x.shape))\n",
    "\n",
    "# conv_block_2 has half the h,w (due to max pool right before it) and double the input channels. \n",
    "conv2_block = Block(input_channels=64, out_channels=128, num_layers=2)\n",
    "x = max_pool(x)\n",
    "print(\"\\noutput volume after maxpool (halves H,W; preserves C) = {}\".format(x.shape))\n",
    "x = conv2_block(x)\n",
    "\n",
    "print(\"\\noutput volume after conv2_block (Channels: 64->128) = {}\".format(x.shape))\n"
   ]
  },
  {
   "cell_type": "markdown",
   "metadata": {},
   "source": [
    "Finally the model.\n",
    "\n",
    "We will later use a small dataset of (28,28) grayscale images to train this model. Do not pay much heed to the parameters. They have been arbritarily chosen keeping in mind the input size and total model size."
   ]
  },
  {
   "cell_type": "code",
   "execution_count": 234,
   "metadata": {},
   "outputs": [],
   "source": [
    "import torch\n",
    "import torch.nn as nn\n",
    "\n",
    "class SimpleCNN(nn.Module):\n",
    "    def __init__(self):\n",
    "        super(SimpleCNN, self).__init__()\n",
    "        self.pool = nn.MaxPool2d(kernel_size=2, stride=2)\n",
    "        # self.final_pool = nn.MaxPool2d(kernel_size=4, stride=4)\n",
    "\n",
    "        self.feature_extractor = nn.Sequential(\n",
    "            Block(1, 32, 2),\n",
    "            self.pool,\n",
    "            Block(32, 64, 2),\n",
    "            self.pool,\n",
    "            Block(64, 128, 2),\n",
    "            self.pool\n",
    "        )\n",
    "        self.classifier = nn.Sequential(\n",
    "            nn.Linear(128 * 3 * 3, 2048),\n",
    "            nn.ReLU(),\n",
    "            nn.Linear(2048, 10),\n",
    "        )\n",
    "        \n",
    "    def forward(self, x):\n",
    "\n",
    "        x = self.feature_extractor(x)\n",
    "        x = x.view(-1, 128 * 3 * 3)     # flattening the tensor to feed it to FC layer\n",
    "        x = self.classifier(x)\n",
    "        return x"
   ]
  },
  {
   "cell_type": "markdown",
   "metadata": {},
   "source": [
    "Lets look at the model summary."
   ]
  },
  {
   "cell_type": "code",
   "execution_count": 236,
   "metadata": {},
   "outputs": [
    {
     "data": {
      "text/plain": [
       "==========================================================================================\n",
       "Layer (type:depth-idx)                   Output Shape              Param #\n",
       "==========================================================================================\n",
       "SimpleCNN                                [1, 10]                   --\n",
       "├─Sequential: 1-1                        [128, 3, 3]               --\n",
       "│    └─Block: 2-1                        [32, 28, 28]              --\n",
       "│    │    └─Sequential: 3-1              [32, 28, 28]              9,568\n",
       "│    └─Block: 2-9                        --                        (recursive)\n",
       "│    │    └─Sequential: 3-8              --                        (recursive)\n",
       "│    └─Block: 2-3                        --                        (recursive)\n",
       "│    │    └─Sequential: 3-3              --                        (recursive)\n",
       "│    └─Block: 2-9                        --                        (recursive)\n",
       "│    │    └─Sequential: 3-8              --                        (recursive)\n",
       "│    └─MaxPool2d: 2-5                    [32, 14, 14]              --\n",
       "│    └─Block: 2-6                        [64, 14, 14]              --\n",
       "│    │    └─Sequential: 3-5              [64, 14, 14]              55,424\n",
       "│    └─Block: 2-9                        --                        (recursive)\n",
       "│    │    └─Sequential: 3-8              --                        (recursive)\n",
       "│    └─Block: 2-8                        --                        (recursive)\n",
       "│    │    └─Sequential: 3-7              --                        (recursive)\n",
       "│    └─Block: 2-9                        --                        (recursive)\n",
       "│    │    └─Sequential: 3-8              --                        (recursive)\n",
       "│    └─MaxPool2d: 2-10                   [64, 7, 7]                --\n",
       "│    └─Block: 2-11                       [128, 7, 7]               --\n",
       "│    │    └─Sequential: 3-9              [128, 7, 7]               221,440\n",
       "│    └─MaxPool2d: 2-12                   [128, 3, 3]               --\n",
       "├─Sequential: 1-2                        [1, 10]                   --\n",
       "│    └─Linear: 2-13                      [1, 2048]                 2,361,344\n",
       "│    └─ReLU: 2-14                        [1, 2048]                 --\n",
       "│    └─Linear: 2-15                      [1, 10]                   20,490\n",
       "==========================================================================================\n",
       "Total params: 2,714,442\n",
       "Trainable params: 2,714,442\n",
       "Non-trainable params: 0\n",
       "Total mult-adds (M): 259.02\n",
       "==========================================================================================\n",
       "Input size (MB): 0.00\n",
       "Forward/backward pass size (MB): 0.72\n",
       "Params size (MB): 10.67\n",
       "Estimated Total Size (MB): 11.40\n",
       "=========================================================================================="
      ]
     },
     "execution_count": 236,
     "metadata": {},
     "output_type": "execute_result"
    }
   ],
   "source": [
    "from torchinfo import summary\n",
    "model = SimpleCNN()\n",
    "\n",
    "input_img = torch.rand(1,28,28)\n",
    "summary(model, input_data=input_img)"
   ]
  },
  {
   "cell_type": "markdown",
   "metadata": {},
   "source": [
    "Note that the model has  $\\approx$ 2.7 million parameters and a total size of around 11 MB. \n",
    "\n",
    "Model precision refers to the number of bits used to represent each weight or activation. Since our model weights are of dtype float32, the precision is 32 bits. Thus, the total size of a model can be calculated using the formula: \n",
    "total size $\\approx$ (number of parameters * precision) / 8.\n",
    "\n",
    "Also, note that the FC layers have most of the parameters (over 80%). In general conv layers are more memory heavy (input size is large there) while the FC layers have large number of parameters."
   ]
  },
  {
   "cell_type": "markdown",
   "metadata": {},
   "source": [
    "## Lets train a model\n",
    "\n",
    "Let us quickly now train a model to classify images from the fashion mnist dataset. The dataset contains very small grayscale (ie single channel) images of size (28*28). \n",
    "\n",
    "> the below code is all generated by claude-sonnet-3.5, bcuz its kinda boring to train a toy model on a toy dataset, that too for classification. dont worry though, ill soon be back with a more interesting vision problem to get our hands dirty.\n",
    "\n",
    "Training itself is pretty straightforward. We split the data into train-test, and then train the model for a few epochs. We use the Adam optimizer and CrossEntropyLoss as the loss function. The outputs of the model are bare logits, which the loss functions accepts with targets. A learning rate of 0.001 is used for the optimizer. \n",
    "In the end we test on the test set, and print the accuracy. "
   ]
  },
  {
   "cell_type": "code",
   "execution_count": 240,
   "metadata": {},
   "outputs": [
    {
     "name": "stdout",
     "output_type": "stream",
     "text": [
      "device: mps\n",
      "Epoch [1/5], Loss: 0.4570\n",
      "Epoch [2/5], Loss: 0.2674\n",
      "Epoch [3/5], Loss: 0.2233\n",
      "Epoch [4/5], Loss: 0.1939\n",
      "Epoch [5/5], Loss: 0.1718\n"
     ]
    },
    {
     "data": {
      "image/png": "[encoded data removed]",
      "text/plain": [
       "<Figure size 720x360 with 1 Axes>"
      ]
     },
     "metadata": {
      "needs_background": "light"
     },
     "output_type": "display_data"
    },
    {
     "name": "stdout",
     "output_type": "stream",
     "text": [
      "Test Accuracy:91.85 %\n"
     ]
    }
   ],
   "source": [
    "#| code-fold: false\n",
    "\n",
    "import torch.optim as optim\n",
    "import torchvision\n",
    "import torchvision.transforms as transforms\n",
    "from torch.utils.data import DataLoader\n",
    "import matplotlib.pyplot as plt\n",
    "\n",
    "# Set device\n",
    "device = torch.device(\"cuda\" if torch.cuda.is_available() else \"mps\" if torch.backends.mps.is_built() else \"cpu\")\n",
    "print(f\"device: {device}\")\n",
    " \n",
    "\n",
    "# Load and preprocess the Fashion MNIST dataset (just plain old standardization)\n",
    "transform = transforms.Compose([transforms.ToTensor(), transforms.Normalize((0.5,), (0.5,))])\n",
    "\n",
    "train_dataset = torchvision.datasets.FashionMNIST(root='./data', train=True, download=True, transform=transform)\n",
    "test_dataset = torchvision.datasets.FashionMNIST(root='./data', train=False, download=True, transform=transform)\n",
    "\n",
    "train_loader = DataLoader(train_dataset, batch_size=64, shuffle=True)\n",
    "test_loader = DataLoader(test_dataset, batch_size=64, shuffle=False)\n",
    "\n",
    "model = SimpleCNN()\n",
    "model.to(device)\n",
    "\n",
    "criterion = nn.CrossEntropyLoss()\n",
    "optimizer = optim.Adam(model.parameters(), lr=0.001)\n",
    "\n",
    "# Training loop\n",
    "num_epochs = 5\n",
    "all_losses = []\n",
    "for epoch in range(num_epochs):\n",
    "    model.train()\n",
    "    epoch_losses = []\n",
    "    for batch_idx, (data, targets) in enumerate(train_loader):\n",
    "        data, targets = data.to(device), targets.to(device)\n",
    "        \n",
    "        optimizer.zero_grad()\n",
    "        outputs = model(data)\n",
    "        loss = criterion(outputs, targets)\n",
    "        loss.backward()\n",
    "        optimizer.step()\n",
    "        epoch_losses.append(loss.item())\n",
    "    \n",
    "    print(f\"Epoch [{epoch+1}/{num_epochs}], Loss: {np.mean(epoch_losses):.4f}\")\n",
    "    all_losses.extend(epoch_losses)\n",
    "\n",
    "# plot train loss curve\n",
    "plt.figure(figsize=(10, 5))\n",
    "plt.plot(all_losses)\n",
    "plt.xlabel('Epoch')\n",
    "plt.ylabel('Loss')\n",
    "plt.title('Training Loss Curve')\n",
    "plt.show()\n",
    "\n",
    "# Evaluation\n",
    "model.eval()\n",
    "correct = 0\n",
    "total = 0\n",
    "with torch.no_grad():\n",
    "    for data, targets in test_loader:\n",
    "        data, targets = data.to(device), targets.to(device)\n",
    "        outputs = model(data)\n",
    "        _, predicted = torch.max(outputs.data, 1)\n",
    "        total += targets.size(0)\n",
    "        correct += (predicted == targets).sum().item()\n",
    "accuracy = 100 * correct / total\n",
    "print(f'Test Accuracy:{accuracy:.2f} %')"
   ]
  },
  {
   "cell_type": "markdown",
   "metadata": {},
   "source": [
    "Over 91% accuracy. Neat!! \n",
    "Now let's visualize some of the predictions."
   ]
  },
  {
   "cell_type": "code",
   "execution_count": 238,
   "metadata": {},
   "outputs": [
    {
     "data": {
      "image/png": "[encoded data removed]",
      "text/plain": [
       "<Figure size 1080x432 with 10 Axes>"
      ]
     },
     "metadata": {
      "needs_background": "light"
     },
     "output_type": "display_data"
    }
   ],
   "source": [
    "#| code-fold: false\n",
    "\n",
    "import random\n",
    "\n",
    "class_names = ['T-shirt/top', 'Trouser', 'Pullover', 'Dress', 'Coat', \n",
    "               'Sandal', 'Shirt', 'Sneaker', 'Bag', 'Ankle boot']   # verify using train_dataset.classes\n",
    "\n",
    "model.eval()\n",
    "fig, axes = plt.subplots(2, 5, figsize=(15, 6))\n",
    "fig.suptitle('Sample Predictions', fontsize=16)\n",
    "\n",
    "with torch.no_grad():\n",
    "    for i, idx in enumerate(random.sample(range(len(test_dataset)), 10)):\n",
    "        image, label = test_dataset[idx]\n",
    "        output = model(image.unsqueeze(0).to(device))\n",
    "        predicted = output.argmax(1).item()\n",
    "        \n",
    "        ax = axes[i // 5, i % 5]\n",
    "        ax.imshow(image.squeeze(), cmap='gray')\n",
    "        ax.axis('off')\n",
    "        ax.set_title(f'Pred: {class_names[predicted]}\\nTrue: {class_names[label]}', \n",
    "                     color='green' if predicted == label else 'red')\n",
    "\n",
    "plt.tight_layout()\n",
    "plt.show()"
   ]
  },
  {
   "cell_type": "markdown",
   "metadata": {},
   "source": [
    "Now let us visualize the confisuion matrix on the test set to analyse errors."
   ]
  },
  {
   "cell_type": "code",
   "execution_count": 239,
   "metadata": {},
   "outputs": [
    {
     "data": {
      "image/png": "[encoded data removed]",
      "text/plain": [
       "<Figure size 720x576 with 2 Axes>"
      ]
     },
     "metadata": {
      "needs_background": "light"
     },
     "output_type": "display_data"
    }
   ],
   "source": [
    "# see the confusion matrix\n",
    "from sklearn.metrics import confusion_matrix\n",
    "import matplotlib.pyplot as plt\n",
    "\n",
    "# Collect predictions and true labels\n",
    "y_true, y_pred = [], []\n",
    "model.eval()\n",
    "with torch.no_grad():\n",
    "    for data, targets in test_loader:\n",
    "        data, targets = data.to(device), targets.to(device)\n",
    "        outputs = model(data)\n",
    "        _, predicted = torch.max(outputs.data, 1)\n",
    "        y_true.extend(targets.cpu().numpy())\n",
    "        y_pred.extend(predicted.cpu().numpy())\n",
    "\n",
    "# Create and plot confusion matrix\n",
    "cm = confusion_matrix(y_true, y_pred)\n",
    "plt.figure(figsize=(10, 8))\n",
    "plt.imshow(cm, interpolation='nearest', cmap=\"Pastel1\")\n",
    "plt.title('Confusion Matrix')\n",
    "plt.colorbar()\n",
    "tick_marks = range(len(class_names))\n",
    "plt.xticks(tick_marks, class_names, rotation=45)\n",
    "plt.yticks(tick_marks, class_names)\n",
    "plt.xlabel('Predicted')\n",
    "plt.ylabel('True')\n",
    "\n",
    "# Add text annotations\n",
    "for i in range(cm.shape[0]):\n",
    "    for j in range(cm.shape[1]):\n",
    "        plt.text(j, i, str(cm[i, j]), ha=\"center\", va=\"center\")\n",
    "\n",
    "plt.tight_layout()\n",
    "plt.show()"
   ]
  },
  {
   "cell_type": "markdown",
   "metadata": {},
   "source": [
    "We can see that the model is particularly confused in the \"Tshirt\" & \"Shirt\" class (less than 70% accuracy) and most confident in \"Trouser\", \"Sneaker\", \"Bag\" and \"Ankle boot\" (greater than 95% accuracy)"
   ]
  },
  {
   "cell_type": "markdown",
   "metadata": {},
   "source": [
    "\n",
    "## Concluding\n",
    "\n",
    "I hope you clearly understand the core CNN fundamental architecture. This is just the base that'll act as a foundation for more interesting architectures as we go on. Until then, see you in the next one!\n",
    "\n",
    "Byeee :)"
   ]
  },
  {
   "cell_type": "markdown",
   "metadata": {},
   "source": [
    "## Further Reading\n",
    "\n",
    "- Sebastian Raschka Intorduction to CNNs course [here](https://sebastianraschka.com/blog/2021/dl-course.html#l13-introduction-to-convolutional-neural-networks)\n",
    "- CS231N Cnn notes [here](https://cs231n.github.io/convolutional-networks/#case). Great intuition and more detail about the shapes, local connectivity, spatial arrangement, and loads of other stuff.\n",
    "- A beginner friendly article on Medium (its a great blog-series for ML) [here](https://medium.com/@ageitgey/machine-learning-is-fun-part-3-deep-learning-and-convolutional-neural-networks-f40359318721)\n",
    "- Visualizing and Understanding Convolutional Networks. 2014 paper [here](https://arxiv.org/pdf/1311.2901)\n",
    "- Find out some of the modifications made on this basic architecture [here](https://towardsdatascience.com/10-papers-you-should-read-to-understand-image-classification-in-the-deep-learning-era-4b9d792f45a7)"
   ]
  }
 ],
 "metadata": {
  "kernelspec": {
   "display_name": "vision",
   "language": "python",
   "name": "vision"
  },
  "language_info": {
   "codemirror_mode": {
    "name": "ipython",
    "version": 3
   },
   "file_extension": ".py",
   "mimetype": "text/x-python",
   "name": "python",
   "nbconvert_exporter": "python",
   "pygments_lexer": "ipython3",
   "version": "3.9.7"
  }
 },
 "nbformat": 4,
 "nbformat_minor": 2
}
